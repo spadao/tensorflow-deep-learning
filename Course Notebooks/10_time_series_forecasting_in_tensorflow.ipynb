{
  "nbformat": 4,
  "nbformat_minor": 0,
  "metadata": {
    "colab": {
      "name": "10_time_series_forecasting_in_tensorflow.ipynb",
      "provenance": [],
      "collapsed_sections": [],
      "authorship_tag": "ABX9TyOVfVy3VQnNfhHFZx+moVDC",
      "include_colab_link": true
    },
    "kernelspec": {
      "name": "python3",
      "display_name": "Python 3"
    },
    "language_info": {
      "name": "python"
    }
  },
  "cells": [
    {
      "cell_type": "markdown",
      "metadata": {
        "id": "view-in-github",
        "colab_type": "text"
      },
      "source": [
        "<a href=\"https://colab.research.google.com/github/mrdbourke/tensorflow-deep-learning/blob/main/10_time_series_forecasting_in_tensorflow.ipynb\" target=\"_parent\"><img src=\"https://colab.research.google.com/assets/colab-badge.svg\" alt=\"Open In Colab\"/></a>"
      ]
    },
    {
      "cell_type": "markdown",
      "metadata": {
        "id": "vlVtweEv7nAx"
      },
      "source": [
        "# Note: This notebook is a work in progress & will be updated continuously over the next week or so before it's ready - 24 May 2021\n",
        "\n",
        "# Time series forecasting in TensorFlow\n",
        "\n",
        "The goal of this notebook is to get you familiar with working with time series data.\n",
        "\n",
        "It won't cover all of the time series field but by the end you will get a fairly good overview of things to consider for time series problems...\n",
        "\n",
        "Outline:\n",
        "* Get data (a time series)\n",
        "* Format data\n",
        "  * Turn data into a windowed dataset\n",
        "  * Training/test sets for time series\n",
        "  * Univariate - Bitcoin's price history\n",
        "  * Multivariate - Bitcoin's price history + block size\n",
        "* Model data\n",
        "  * Baseline - naive forecasting\n",
        "  * Baseline 2 - random forest regressor\n",
        "  * Deep model - fully connected\n",
        "  * Sequence models\n",
        "    * LSTM\n",
        "    * Conv1D\n",
        "  * N-Beats algorithm - https://arxiv.org/pdf/1905.10437.pdf\n",
        "* Evaluating a time series model\n",
        "  * MAE\n",
        "  * MSE\n",
        "  * RMSE etc...\n",
        "* Uncertainty estimates\n",
        "  * Coconut uncertainty - epistemic uncertainty\n",
        "  * Subway uncertainty - aleatory uncertainty\n",
        "* Why forecasting is BS (turkey problem) - https://youtu.be/hRwimmE2wEk\n",
        "  * Open system: beware (like fortune telling), see Mark Saroufim's tweet - https://twitter.com/marksaroufim/status/1366871736604532739?s=20 \n",
        "  * Closed system: try it out \n",
        "* Exercises\n",
        "* Extra-curriculum\n",
        "  * Time series book - https://otexts.com/fpp2/accuracy.html \n"
      ]
    },
    {
      "cell_type": "markdown",
      "metadata": {
        "id": "ZdeV4DEeAjF2"
      },
      "source": [
        "## TODO: What is a time series problem?\n",
        "\n",
        "* Forecasting\n",
        "* Classification"
      ]
    },
    {
      "cell_type": "markdown",
      "metadata": {
        "id": "81ywkh0q8Apj"
      },
      "source": [
        "## TODO: Get data\n",
        "\n",
        "Let's predict the price of Bitcoin! Data source: https://www.coindesk.com/price/bitcoin\n",
        "\n",
        "> **Note:** This is not financial advice, as you'll see time series forecasting for stock market prices is actually quite terrible.\n",
        "\n",
        "See this tweet for reference: https://twitter.com/marksaroufim/status/1366871736604532739?s=20\n",
        "\n",
        "TODO (upload to Google Storage/GitHub): Data: https://www.dropbox.com/s/hoexgnrk44uco0a/BTC_USD_2013-10-01_2021-05-18-CoinDesk.csv?dl=0"
      ]
    },
    {
      "cell_type": "code",
      "metadata": {
        "colab": {
          "base_uri": "https://localhost:8080/"
        },
        "id": "mVEjK6ZHDqkQ",
        "outputId": "5086f153-6da4-4d38-d577-ca37f2f858eb"
      },
      "source": [
        "!wget https://www.dropbox.com/s/hoexgnrk44uco0a/BTC_USD_2013-10-01_2021-05-18-CoinDesk.csv"
      ],
      "execution_count": 1,
      "outputs": [
        {
          "output_type": "stream",
          "text": [
            "--2021-05-24 04:32:19--  https://www.dropbox.com/s/hoexgnrk44uco0a/BTC_USD_2013-10-01_2021-05-18-CoinDesk.csv\n",
            "Resolving www.dropbox.com (www.dropbox.com)... 162.125.1.18, 2620:100:6016:18::a27d:112\n",
            "Connecting to www.dropbox.com (www.dropbox.com)|162.125.1.18|:443... connected.\n",
            "HTTP request sent, awaiting response... 301 Moved Permanently\n",
            "Location: /s/raw/hoexgnrk44uco0a/BTC_USD_2013-10-01_2021-05-18-CoinDesk.csv [following]\n",
            "--2021-05-24 04:32:19--  https://www.dropbox.com/s/raw/hoexgnrk44uco0a/BTC_USD_2013-10-01_2021-05-18-CoinDesk.csv\n",
            "Reusing existing connection to www.dropbox.com:443.\n",
            "HTTP request sent, awaiting response... 302 Found\n",
            "Location: https://uce59df68e946ce950d6d1a9b988.dl.dropboxusercontent.com/cd/0/inline/BPFechDoLFa9uLO7s3kv-2y-XylB5aTAjVGuXnylTLOToTRmuY-wmLIlabvPNpweVrPmIFHK9XgAZ5ZEnOXtKY28IKjnaTVs7LVNeGofWN7m_ex6vpqzXHNT_izzofqriyAtc57T8AmhOVFoK3VMOt2j/file# [following]\n",
            "--2021-05-24 04:32:19--  https://uce59df68e946ce950d6d1a9b988.dl.dropboxusercontent.com/cd/0/inline/BPFechDoLFa9uLO7s3kv-2y-XylB5aTAjVGuXnylTLOToTRmuY-wmLIlabvPNpweVrPmIFHK9XgAZ5ZEnOXtKY28IKjnaTVs7LVNeGofWN7m_ex6vpqzXHNT_izzofqriyAtc57T8AmhOVFoK3VMOt2j/file\n",
            "Resolving uce59df68e946ce950d6d1a9b988.dl.dropboxusercontent.com (uce59df68e946ce950d6d1a9b988.dl.dropboxusercontent.com)... 162.125.1.15, 2620:100:6018:15::a27d:30f\n",
            "Connecting to uce59df68e946ce950d6d1a9b988.dl.dropboxusercontent.com (uce59df68e946ce950d6d1a9b988.dl.dropboxusercontent.com)|162.125.1.15|:443... connected.\n",
            "HTTP request sent, awaiting response... 200 OK\n",
            "Length: 178509 (174K) [text/plain]\n",
            "Saving to: ‘BTC_USD_2013-10-01_2021-05-18-CoinDesk.csv.3’\n",
            "\n",
            "BTC_USD_2013-10-01_ 100%[===================>] 174.33K  --.-KB/s    in 0.02s   \n",
            "\n",
            "2021-05-24 04:32:19 (8.36 MB/s) - ‘BTC_USD_2013-10-01_2021-05-18-CoinDesk.csv.3’ saved [178509/178509]\n",
            "\n"
          ],
          "name": "stdout"
        }
      ]
    },
    {
      "cell_type": "code",
      "metadata": {
        "colab": {
          "base_uri": "https://localhost:8080/",
          "height": 450
        },
        "id": "5FOrshVX_dUE",
        "outputId": "577d736e-cee1-4bf9-e57d-b981915ec32e"
      },
      "source": [
        "# Import with pandas \n",
        "import pandas as pd\n",
        "# Parse dates and set date column to index\n",
        "df = pd.read_csv(\"/content/BTC_USD_2013-10-01_2021-05-18-CoinDesk.csv\", \n",
        "                 parse_dates=[\"Date\"], \n",
        "                 index_col=[\"Date\"]) # parse the date column (tell pandas column 1 is a datetime)\n",
        "df"
      ],
      "execution_count": 2,
      "outputs": [
        {
          "output_type": "execute_result",
          "data": {
            "text/html": [
              "<div>\n",
              "<style scoped>\n",
              "    .dataframe tbody tr th:only-of-type {\n",
              "        vertical-align: middle;\n",
              "    }\n",
              "\n",
              "    .dataframe tbody tr th {\n",
              "        vertical-align: top;\n",
              "    }\n",
              "\n",
              "    .dataframe thead th {\n",
              "        text-align: right;\n",
              "    }\n",
              "</style>\n",
              "<table border=\"1\" class=\"dataframe\">\n",
              "  <thead>\n",
              "    <tr style=\"text-align: right;\">\n",
              "      <th></th>\n",
              "      <th>Currency</th>\n",
              "      <th>Closing Price (USD)</th>\n",
              "      <th>24h Open (USD)</th>\n",
              "      <th>24h High (USD)</th>\n",
              "      <th>24h Low (USD)</th>\n",
              "    </tr>\n",
              "    <tr>\n",
              "      <th>Date</th>\n",
              "      <th></th>\n",
              "      <th></th>\n",
              "      <th></th>\n",
              "      <th></th>\n",
              "      <th></th>\n",
              "    </tr>\n",
              "  </thead>\n",
              "  <tbody>\n",
              "    <tr>\n",
              "      <th>2013-10-01</th>\n",
              "      <td>BTC</td>\n",
              "      <td>123.654990</td>\n",
              "      <td>124.304660</td>\n",
              "      <td>124.751660</td>\n",
              "      <td>122.563490</td>\n",
              "    </tr>\n",
              "    <tr>\n",
              "      <th>2013-10-02</th>\n",
              "      <td>BTC</td>\n",
              "      <td>125.455000</td>\n",
              "      <td>123.654990</td>\n",
              "      <td>125.758500</td>\n",
              "      <td>123.633830</td>\n",
              "    </tr>\n",
              "    <tr>\n",
              "      <th>2013-10-03</th>\n",
              "      <td>BTC</td>\n",
              "      <td>108.584830</td>\n",
              "      <td>125.455000</td>\n",
              "      <td>125.665660</td>\n",
              "      <td>83.328330</td>\n",
              "    </tr>\n",
              "    <tr>\n",
              "      <th>2013-10-04</th>\n",
              "      <td>BTC</td>\n",
              "      <td>118.674660</td>\n",
              "      <td>108.584830</td>\n",
              "      <td>118.675000</td>\n",
              "      <td>107.058160</td>\n",
              "    </tr>\n",
              "    <tr>\n",
              "      <th>2013-10-05</th>\n",
              "      <td>BTC</td>\n",
              "      <td>121.338660</td>\n",
              "      <td>118.674660</td>\n",
              "      <td>121.936330</td>\n",
              "      <td>118.005660</td>\n",
              "    </tr>\n",
              "    <tr>\n",
              "      <th>...</th>\n",
              "      <td>...</td>\n",
              "      <td>...</td>\n",
              "      <td>...</td>\n",
              "      <td>...</td>\n",
              "      <td>...</td>\n",
              "    </tr>\n",
              "    <tr>\n",
              "      <th>2021-05-14</th>\n",
              "      <td>BTC</td>\n",
              "      <td>49764.132082</td>\n",
              "      <td>49596.778891</td>\n",
              "      <td>51448.798576</td>\n",
              "      <td>46294.720180</td>\n",
              "    </tr>\n",
              "    <tr>\n",
              "      <th>2021-05-15</th>\n",
              "      <td>BTC</td>\n",
              "      <td>50032.693137</td>\n",
              "      <td>49717.354353</td>\n",
              "      <td>51578.312545</td>\n",
              "      <td>48944.346536</td>\n",
              "    </tr>\n",
              "    <tr>\n",
              "      <th>2021-05-16</th>\n",
              "      <td>BTC</td>\n",
              "      <td>47885.625255</td>\n",
              "      <td>49926.035067</td>\n",
              "      <td>50690.802950</td>\n",
              "      <td>47005.102292</td>\n",
              "    </tr>\n",
              "    <tr>\n",
              "      <th>2021-05-17</th>\n",
              "      <td>BTC</td>\n",
              "      <td>45604.615754</td>\n",
              "      <td>46805.537852</td>\n",
              "      <td>49670.414174</td>\n",
              "      <td>43868.638969</td>\n",
              "    </tr>\n",
              "    <tr>\n",
              "      <th>2021-05-18</th>\n",
              "      <td>BTC</td>\n",
              "      <td>43144.471291</td>\n",
              "      <td>46439.336570</td>\n",
              "      <td>46622.853437</td>\n",
              "      <td>42102.346430</td>\n",
              "    </tr>\n",
              "  </tbody>\n",
              "</table>\n",
              "<p>2787 rows × 5 columns</p>\n",
              "</div>"
            ],
            "text/plain": [
              "           Currency  Closing Price (USD)  ...  24h High (USD)  24h Low (USD)\n",
              "Date                                      ...                               \n",
              "2013-10-01      BTC           123.654990  ...      124.751660     122.563490\n",
              "2013-10-02      BTC           125.455000  ...      125.758500     123.633830\n",
              "2013-10-03      BTC           108.584830  ...      125.665660      83.328330\n",
              "2013-10-04      BTC           118.674660  ...      118.675000     107.058160\n",
              "2013-10-05      BTC           121.338660  ...      121.936330     118.005660\n",
              "...             ...                  ...  ...             ...            ...\n",
              "2021-05-14      BTC         49764.132082  ...    51448.798576   46294.720180\n",
              "2021-05-15      BTC         50032.693137  ...    51578.312545   48944.346536\n",
              "2021-05-16      BTC         47885.625255  ...    50690.802950   47005.102292\n",
              "2021-05-17      BTC         45604.615754  ...    49670.414174   43868.638969\n",
              "2021-05-18      BTC         43144.471291  ...    46622.853437   42102.346430\n",
              "\n",
              "[2787 rows x 5 columns]"
            ]
          },
          "metadata": {
            "tags": []
          },
          "execution_count": 2
        }
      ]
    },
    {
      "cell_type": "code",
      "metadata": {
        "colab": {
          "base_uri": "https://localhost:8080/"
        },
        "id": "Z-YoeINjCzJ_",
        "outputId": "338a1c5e-6286-410a-97f5-6a0795b4c149"
      },
      "source": [
        "df.info()"
      ],
      "execution_count": 3,
      "outputs": [
        {
          "output_type": "stream",
          "text": [
            "<class 'pandas.core.frame.DataFrame'>\n",
            "DatetimeIndex: 2787 entries, 2013-10-01 to 2021-05-18\n",
            "Data columns (total 5 columns):\n",
            " #   Column               Non-Null Count  Dtype  \n",
            "---  ------               --------------  -----  \n",
            " 0   Currency             2787 non-null   object \n",
            " 1   Closing Price (USD)  2787 non-null   float64\n",
            " 2   24h Open (USD)       2787 non-null   float64\n",
            " 3   24h High (USD)       2787 non-null   float64\n",
            " 4   24h Low (USD)        2787 non-null   float64\n",
            "dtypes: float64(4), object(1)\n",
            "memory usage: 130.6+ KB\n"
          ],
          "name": "stdout"
        }
      ]
    },
    {
      "cell_type": "code",
      "metadata": {
        "colab": {
          "base_uri": "https://localhost:8080/"
        },
        "id": "XP3cN0uvlxhi",
        "outputId": "70e862d7-02ac-4c06-d555-936595eb4c1a"
      },
      "source": [
        "# TODO: time series often may not have very many samples (e.g. monthly = only 12 per year, daily = 365 per year... etc)\n",
        "# Deep learning algorithms usually flourish with lots of data (1000's of samples)\n",
        "len(df)"
      ],
      "execution_count": 4,
      "outputs": [
        {
          "output_type": "execute_result",
          "data": {
            "text/plain": [
              "2787"
            ]
          },
          "metadata": {
            "tags": []
          },
          "execution_count": 4
        }
      ]
    },
    {
      "cell_type": "code",
      "metadata": {
        "colab": {
          "base_uri": "https://localhost:8080/",
          "height": 235
        },
        "id": "QxoNCv2NCuLY",
        "outputId": "0fe574ad-46cc-45dd-9e08-92285630032a"
      },
      "source": [
        "# Only want closing price\n",
        "bitcoin_prices = pd.DataFrame(df[\"Closing Price (USD)\"]).rename(columns={\"Closing Price (USD)\": \"Price\"})\n",
        "bitcoin_prices.head()"
      ],
      "execution_count": 5,
      "outputs": [
        {
          "output_type": "execute_result",
          "data": {
            "text/html": [
              "<div>\n",
              "<style scoped>\n",
              "    .dataframe tbody tr th:only-of-type {\n",
              "        vertical-align: middle;\n",
              "    }\n",
              "\n",
              "    .dataframe tbody tr th {\n",
              "        vertical-align: top;\n",
              "    }\n",
              "\n",
              "    .dataframe thead th {\n",
              "        text-align: right;\n",
              "    }\n",
              "</style>\n",
              "<table border=\"1\" class=\"dataframe\">\n",
              "  <thead>\n",
              "    <tr style=\"text-align: right;\">\n",
              "      <th></th>\n",
              "      <th>Price</th>\n",
              "    </tr>\n",
              "    <tr>\n",
              "      <th>Date</th>\n",
              "      <th></th>\n",
              "    </tr>\n",
              "  </thead>\n",
              "  <tbody>\n",
              "    <tr>\n",
              "      <th>2013-10-01</th>\n",
              "      <td>123.65499</td>\n",
              "    </tr>\n",
              "    <tr>\n",
              "      <th>2013-10-02</th>\n",
              "      <td>125.45500</td>\n",
              "    </tr>\n",
              "    <tr>\n",
              "      <th>2013-10-03</th>\n",
              "      <td>108.58483</td>\n",
              "    </tr>\n",
              "    <tr>\n",
              "      <th>2013-10-04</th>\n",
              "      <td>118.67466</td>\n",
              "    </tr>\n",
              "    <tr>\n",
              "      <th>2013-10-05</th>\n",
              "      <td>121.33866</td>\n",
              "    </tr>\n",
              "  </tbody>\n",
              "</table>\n",
              "</div>"
            ],
            "text/plain": [
              "                Price\n",
              "Date                 \n",
              "2013-10-01  123.65499\n",
              "2013-10-02  125.45500\n",
              "2013-10-03  108.58483\n",
              "2013-10-04  118.67466\n",
              "2013-10-05  121.33866"
            ]
          },
          "metadata": {
            "tags": []
          },
          "execution_count": 5
        }
      ]
    },
    {
      "cell_type": "code",
      "metadata": {
        "colab": {
          "base_uri": "https://localhost:8080/"
        },
        "id": "Y0CAu0PTFT5R",
        "outputId": "a417de3b-5479-4976-8070-26c295897215"
      },
      "source": [
        "bitcoin_prices.info()"
      ],
      "execution_count": 6,
      "outputs": [
        {
          "output_type": "stream",
          "text": [
            "<class 'pandas.core.frame.DataFrame'>\n",
            "DatetimeIndex: 2787 entries, 2013-10-01 to 2021-05-18\n",
            "Data columns (total 1 columns):\n",
            " #   Column  Non-Null Count  Dtype  \n",
            "---  ------  --------------  -----  \n",
            " 0   Price   2787 non-null   float64\n",
            "dtypes: float64(1)\n",
            "memory usage: 43.5 KB\n"
          ],
          "name": "stdout"
        }
      ]
    },
    {
      "cell_type": "code",
      "metadata": {
        "colab": {
          "base_uri": "https://localhost:8080/",
          "height": 442
        },
        "id": "CfkhZhmCEyUe",
        "outputId": "75e8227d-1cc3-4459-f086-43f9ab11800c"
      },
      "source": [
        "bitcoin_prices.plot(figsize=(10, 7));"
      ],
      "execution_count": 7,
      "outputs": [
        {
          "output_type": "display_data",
          "data": {
            "image/png": "[encoded data removed]",
            "text/plain": [
              "<Figure size 720x504 with 1 Axes>"
            ]
          },
          "metadata": {
            "tags": [],
            "needs_background": "light"
          }
        }
      ]
    },
    {
      "cell_type": "code",
      "metadata": {
        "colab": {
          "base_uri": "https://localhost:8080/",
          "height": 235
        },
        "id": "v-hEaaGjePVD",
        "outputId": "b359c71e-e572-4fe9-b340-f31296b23863"
      },
      "source": [
        "bitcoin_prices.head()"
      ],
      "execution_count": 8,
      "outputs": [
        {
          "output_type": "execute_result",
          "data": {
            "text/html": [
              "<div>\n",
              "<style scoped>\n",
              "    .dataframe tbody tr th:only-of-type {\n",
              "        vertical-align: middle;\n",
              "    }\n",
              "\n",
              "    .dataframe tbody tr th {\n",
              "        vertical-align: top;\n",
              "    }\n",
              "\n",
              "    .dataframe thead th {\n",
              "        text-align: right;\n",
              "    }\n",
              "</style>\n",
              "<table border=\"1\" class=\"dataframe\">\n",
              "  <thead>\n",
              "    <tr style=\"text-align: right;\">\n",
              "      <th></th>\n",
              "      <th>Price</th>\n",
              "    </tr>\n",
              "    <tr>\n",
              "      <th>Date</th>\n",
              "      <th></th>\n",
              "    </tr>\n",
              "  </thead>\n",
              "  <tbody>\n",
              "    <tr>\n",
              "      <th>2013-10-01</th>\n",
              "      <td>123.65499</td>\n",
              "    </tr>\n",
              "    <tr>\n",
              "      <th>2013-10-02</th>\n",
              "      <td>125.45500</td>\n",
              "    </tr>\n",
              "    <tr>\n",
              "      <th>2013-10-03</th>\n",
              "      <td>108.58483</td>\n",
              "    </tr>\n",
              "    <tr>\n",
              "      <th>2013-10-04</th>\n",
              "      <td>118.67466</td>\n",
              "    </tr>\n",
              "    <tr>\n",
              "      <th>2013-10-05</th>\n",
              "      <td>121.33866</td>\n",
              "    </tr>\n",
              "  </tbody>\n",
              "</table>\n",
              "</div>"
            ],
            "text/plain": [
              "                Price\n",
              "Date                 \n",
              "2013-10-01  123.65499\n",
              "2013-10-02  125.45500\n",
              "2013-10-03  108.58483\n",
              "2013-10-04  118.67466\n",
              "2013-10-05  121.33866"
            ]
          },
          "metadata": {
            "tags": []
          },
          "execution_count": 8
        }
      ]
    },
    {
      "cell_type": "code",
      "metadata": {
        "colab": {
          "base_uri": "https://localhost:8080/",
          "height": 235
        },
        "id": "HZCQEgDSeJ2p",
        "outputId": "168ca6a1-54db-4710-e5e0-867461c0166d"
      },
      "source": [
        "# Windowing data\n",
        "bitcoin_prices[\"Shift+1\"] = bitcoin_prices[\"Price\"].shift(1)\n",
        "bitcoin_prices.head()"
      ],
      "execution_count": 9,
      "outputs": [
        {
          "output_type": "execute_result",
          "data": {
            "text/html": [
              "<div>\n",
              "<style scoped>\n",
              "    .dataframe tbody tr th:only-of-type {\n",
              "        vertical-align: middle;\n",
              "    }\n",
              "\n",
              "    .dataframe tbody tr th {\n",
              "        vertical-align: top;\n",
              "    }\n",
              "\n",
              "    .dataframe thead th {\n",
              "        text-align: right;\n",
              "    }\n",
              "</style>\n",
              "<table border=\"1\" class=\"dataframe\">\n",
              "  <thead>\n",
              "    <tr style=\"text-align: right;\">\n",
              "      <th></th>\n",
              "      <th>Price</th>\n",
              "      <th>Shift+1</th>\n",
              "    </tr>\n",
              "    <tr>\n",
              "      <th>Date</th>\n",
              "      <th></th>\n",
              "      <th></th>\n",
              "    </tr>\n",
              "  </thead>\n",
              "  <tbody>\n",
              "    <tr>\n",
              "      <th>2013-10-01</th>\n",
              "      <td>123.65499</td>\n",
              "      <td>NaN</td>\n",
              "    </tr>\n",
              "    <tr>\n",
              "      <th>2013-10-02</th>\n",
              "      <td>125.45500</td>\n",
              "      <td>123.65499</td>\n",
              "    </tr>\n",
              "    <tr>\n",
              "      <th>2013-10-03</th>\n",
              "      <td>108.58483</td>\n",
              "      <td>125.45500</td>\n",
              "    </tr>\n",
              "    <tr>\n",
              "      <th>2013-10-04</th>\n",
              "      <td>118.67466</td>\n",
              "      <td>108.58483</td>\n",
              "    </tr>\n",
              "    <tr>\n",
              "      <th>2013-10-05</th>\n",
              "      <td>121.33866</td>\n",
              "      <td>118.67466</td>\n",
              "    </tr>\n",
              "  </tbody>\n",
              "</table>\n",
              "</div>"
            ],
            "text/plain": [
              "                Price    Shift+1\n",
              "Date                            \n",
              "2013-10-01  123.65499        NaN\n",
              "2013-10-02  125.45500  123.65499\n",
              "2013-10-03  108.58483  125.45500\n",
              "2013-10-04  118.67466  108.58483\n",
              "2013-10-05  121.33866  118.67466"
            ]
          },
          "metadata": {
            "tags": []
          },
          "execution_count": 9
        }
      ]
    },
    {
      "cell_type": "markdown",
      "metadata": {
        "id": "O2C1JsHUPYGG"
      },
      "source": [
        "### Importing time series as a CSV"
      ]
    },
    {
      "cell_type": "code",
      "metadata": {
        "colab": {
          "base_uri": "https://localhost:8080/"
        },
        "id": "UkTvwP2DCuGK",
        "outputId": "ff0e6cff-8694-4e6d-843a-74ac0ec6f408"
      },
      "source": [
        "# Importing with Python CSV - https://realpython.com/python-csv/\n",
        "import csv\n",
        "from datetime import datetime\n",
        "\n",
        "timesteps = []\n",
        "btc_price = []\n",
        "with open(\"/content/BTC_USD_2013-10-01_2021-05-18-CoinDesk.csv\", \"r\") as f:\n",
        "  csv_reader = csv.reader(f, delimiter=\",\")\n",
        "  next(csv_reader) # skip first line\n",
        "  for line in csv_reader:\n",
        "    timesteps.append(datetime.strptime(line[1], \"%Y-%m-%d\")) # get the dates as dates (not strings)\n",
        "    btc_price.append(float(line[2])) # get the closing price as float\n",
        "\n",
        "# View first 10\n",
        "timesteps[:10], btc_price[:10]"
      ],
      "execution_count": 10,
      "outputs": [
        {
          "output_type": "execute_result",
          "data": {
            "text/plain": [
              "([datetime.datetime(2013, 10, 1, 0, 0),\n",
              "  datetime.datetime(2013, 10, 2, 0, 0),\n",
              "  datetime.datetime(2013, 10, 3, 0, 0),\n",
              "  datetime.datetime(2013, 10, 4, 0, 0),\n",
              "  datetime.datetime(2013, 10, 5, 0, 0),\n",
              "  datetime.datetime(2013, 10, 6, 0, 0),\n",
              "  datetime.datetime(2013, 10, 7, 0, 0),\n",
              "  datetime.datetime(2013, 10, 8, 0, 0),\n",
              "  datetime.datetime(2013, 10, 9, 0, 0),\n",
              "  datetime.datetime(2013, 10, 10, 0, 0)],\n",
              " [123.65499,\n",
              "  125.455,\n",
              "  108.58483,\n",
              "  118.67466,\n",
              "  121.33866,\n",
              "  120.65533,\n",
              "  121.795,\n",
              "  123.033,\n",
              "  124.049,\n",
              "  125.96116])"
            ]
          },
          "metadata": {
            "tags": []
          },
          "execution_count": 10
        }
      ]
    },
    {
      "cell_type": "code",
      "metadata": {
        "colab": {
          "base_uri": "https://localhost:8080/",
          "height": 442
        },
        "id": "bTSX7RZ9Cytj",
        "outputId": "487d931a-6b4f-4a02-b0b9-092fe1b66a1a"
      },
      "source": [
        "# Plot from CSV\n",
        "import matplotlib.pyplot as plt\n",
        "import numpy as np\n",
        "plt.figure(figsize=(10, 7))\n",
        "plt.plot(timesteps, np.array(btc_price))\n",
        "plt.xlabel(\"Date\")\n",
        "plt.ylabel(\"BTC Price\");"
      ],
      "execution_count": 11,
      "outputs": [
        {
          "output_type": "display_data",
          "data": {
            "image/png": "[encoded data removed]",
            "text/plain": [
              "<Figure size 720x504 with 1 Axes>"
            ]
          },
          "metadata": {
            "tags": [],
            "needs_background": "light"
          }
        }
      ]
    },
    {
      "cell_type": "markdown",
      "metadata": {
        "id": "_nfP7i9R_dOp"
      },
      "source": [
        "## TODO: Format data \n",
        "\n",
        "* Turn data into a windowed dataset\n",
        "* Training/test sets for time series\n",
        "* Univariate - Bitcoin's price history\n",
        "* Multivariate - Bitcoin's price history + block size"
      ]
    },
    {
      "cell_type": "markdown",
      "metadata": {
        "id": "prkQhgiHNOKd"
      },
      "source": [
        "### TODO: Create train & test sets for time series\n",
        "\n",
        "* Note: cannot do random split, time series will buckle under this (using future values in the past)\n",
        "* Need to make train set: values from past, test set: values from \"future\""
      ]
    },
    {
      "cell_type": "code",
      "metadata": {
        "colab": {
          "base_uri": "https://localhost:8080/"
        },
        "id": "wxQbuGVTRFKX",
        "outputId": "8bfe7b47-f44c-4d12-c390-84e721c94bcc"
      },
      "source": [
        "# Get bitcoin date array\n",
        "timesteps = bitcoin_prices.index.to_numpy()\n",
        "prices = bitcoin_prices[\"Price\"].to_numpy()\n",
        "\n",
        "timesteps[:10], prices[:10]"
      ],
      "execution_count": 12,
      "outputs": [
        {
          "output_type": "execute_result",
          "data": {
            "text/plain": [
              "(array(['2013-10-01T00:00:00.000000000', '2013-10-02T00:00:00.000000000',\n",
              "        '2013-10-03T00:00:00.000000000', '2013-10-04T00:00:00.000000000',\n",
              "        '2013-10-05T00:00:00.000000000', '2013-10-06T00:00:00.000000000',\n",
              "        '2013-10-07T00:00:00.000000000', '2013-10-08T00:00:00.000000000',\n",
              "        '2013-10-09T00:00:00.000000000', '2013-10-10T00:00:00.000000000'],\n",
              "       dtype='datetime64[ns]'),\n",
              " array([123.65499, 125.455  , 108.58483, 118.67466, 121.33866, 120.65533,\n",
              "        121.795  , 123.033  , 124.049  , 125.96116]))"
            ]
          },
          "metadata": {
            "tags": []
          },
          "execution_count": 12
        }
      ]
    },
    {
      "cell_type": "code",
      "metadata": {
        "colab": {
          "base_uri": "https://localhost:8080/"
        },
        "id": "eGY7hTfyNLZ1",
        "outputId": "e596ce42-b480-4911-c922-da721768a775"
      },
      "source": [
        "# Wrong way to make train/test sets for time series\n",
        "from sklearn.model_selection import train_test_split \n",
        "\n",
        "X_train, X_test, y_train, y_test = train_test_split(timesteps, # dates\n",
        "                                                    prices, # prices\n",
        "                                                    test_size=0.2,\n",
        "                                                    random_state=42)\n",
        "X_train.shape, X_test.shape, y_train.shape, y_test.shape "
      ],
      "execution_count": 13,
      "outputs": [
        {
          "output_type": "execute_result",
          "data": {
            "text/plain": [
              "((2229,), (558,), (2229,), (558,))"
            ]
          },
          "metadata": {
            "tags": []
          },
          "execution_count": 13
        }
      ]
    },
    {
      "cell_type": "code",
      "metadata": {
        "colab": {
          "base_uri": "https://localhost:8080/",
          "height": 442
        },
        "id": "cvH_0RvSNLWm",
        "outputId": "96f4dccc-bc9a-45ff-dd4f-5424c46c07cd"
      },
      "source": [
        "# Let's plot wrong train and test splits\n",
        "plt.figure(figsize=(10, 7))\n",
        "plt.scatter(X_train, y_train, s=5, label=\"Train data\")\n",
        "plt.scatter(X_test, y_test, s=5, label=\"Test data\")\n",
        "plt.xlabel(\"Date\")\n",
        "plt.ylabel(\"BTC Price\")\n",
        "plt.legend()\n",
        "plt.show();"
      ],
      "execution_count": 14,
      "outputs": [
        {
          "output_type": "display_data",
          "data": {
            "image/png": "[encoded data removed]",
            "text/plain": [
              "<Figure size 720x504 with 1 Axes>"
            ]
          },
          "metadata": {
            "tags": [],
            "needs_background": "light"
          }
        }
      ]
    },
    {
      "cell_type": "markdown",
      "metadata": {
        "id": "OK9sORtjRh5z"
      },
      "source": [
        "* TODO: Note: time series forecasting can often have many less data points than traditional deep learning projects (e.g. the entire history of BTC daily price data = only ~3000 samples)\n",
        "\n",
        "* TODO: What kind of steps should we predict? E.g. 80/20 split is that realisitic? You may want to use all of the data up until the last week..."
      ]
    },
    {
      "cell_type": "code",
      "metadata": {
        "colab": {
          "base_uri": "https://localhost:8080/"
        },
        "id": "lpEVKyXANLT4",
        "outputId": "d8df1e54-1996-4b04-b3a0-9f4296d1b330"
      },
      "source": [
        "# Create train and test splits the right way for time series data\n",
        "split_size = int(0.8 * len(prices)) # 80% train, 20% test\n",
        "\n",
        "# Create train data splits\n",
        "X_train, y_train = timesteps[:split_size], prices[:split_size]\n",
        "\n",
        "# Create test data splits\n",
        "X_test, y_test = timesteps[split_size:], prices[split_size:]\n",
        "\n",
        "X_train.shape, X_test.shape, y_train.shape, y_test.shape"
      ],
      "execution_count": 15,
      "outputs": [
        {
          "output_type": "execute_result",
          "data": {
            "text/plain": [
              "((2229,), (558,), (2229,), (558,))"
            ]
          },
          "metadata": {
            "tags": []
          },
          "execution_count": 15
        }
      ]
    },
    {
      "cell_type": "code",
      "metadata": {
        "colab": {
          "base_uri": "https://localhost:8080/",
          "height": 442
        },
        "id": "d8EKkT11Q_7W",
        "outputId": "98894c16-a817-4331-d02b-f02c2534a5f0"
      },
      "source": [
        "# Plot correctly made splits\n",
        "plt.figure(figsize=(10, 7))\n",
        "plt.scatter(X_train, y_train, s=5, label=\"Train data\")\n",
        "plt.scatter(X_test, y_test, s=5, label=\"Test data\")\n",
        "plt.xlabel(\"Date\")\n",
        "plt.ylabel(\"BTC Price\")\n",
        "plt.legend()\n",
        "plt.show();"
      ],
      "execution_count": 16,
      "outputs": [
        {
          "output_type": "display_data",
          "data": {
            "image/png": "[encoded data removed]",
            "text/plain": [
              "<Figure size 720x504 with 1 Axes>"
            ]
          },
          "metadata": {
            "tags": [],
            "needs_background": "light"
          }
        }
      ]
    },
    {
      "cell_type": "markdown",
      "metadata": {
        "id": "cwSpQQRl_dHb"
      },
      "source": [
        "## TODO: Model data\n",
        "\n",
        "* Baseline - naive forecasting\n",
        "* Baseline 2 - moving average\n",
        "* Deep model - fully connected\n",
        "  * Fully connected with different size window/horizon\n",
        "* Sequence models\n",
        "  * LSTM\n",
        "  * Conv1D\n",
        "* N-Beats algorithm - https://arxiv.org/pdf/1905.10437.pdf"
      ]
    },
    {
      "cell_type": "markdown",
      "metadata": {
        "id": "JO1YAv7w_dE7"
      },
      "source": [
        "### Model 0: Naive forecast\n",
        "\n",
        "Naive forecast = Use the previous timestep to predict the next timestep\n",
        "\n",
        "$$\\hat{y}_{t} = y_{t-1}$$ "
      ]
    },
    {
      "cell_type": "code",
      "metadata": {
        "colab": {
          "base_uri": "https://localhost:8080/"
        },
        "id": "nCKGUO4OVos9",
        "outputId": "e81b1861-a789-45a3-d60f-e8f31364d791"
      },
      "source": [
        "naive_forecast = y_test[:-1]\n",
        "naive_forecast[:10]"
      ],
      "execution_count": 17,
      "outputs": [
        {
          "output_type": "execute_result",
          "data": {
            "text/plain": [
              "array([9226.48582088, 8794.35864452, 8798.04205463, 9081.18687849,\n",
              "       8711.53433917, 8760.89271814, 8749.52059102, 8656.97092235,\n",
              "       8500.64355816, 8469.2608989 ])"
            ]
          },
          "metadata": {
            "tags": []
          },
          "execution_count": 17
        }
      ]
    },
    {
      "cell_type": "code",
      "metadata": {
        "colab": {
          "base_uri": "https://localhost:8080/",
          "height": 442
        },
        "id": "a0NLHXDhWDX-",
        "outputId": "e3e35e19-5747-47a1-e1a9-f80f6f82cee6"
      },
      "source": [
        "# Plot naive forecast\n",
        "plt.figure(figsize=(10, 7))\n",
        "plt.scatter(X_train, y_train, s=5, label=\"Train data\")\n",
        "plt.scatter(X_test, y_test, s=5, label=\"Test data\")\n",
        "plt.scatter(X_test[1:], naive_forecast, s=5, label=\"Naive forecast\")\n",
        "plt.xlabel(\"Date\")\n",
        "plt.ylabel(\"BTC Price\")\n",
        "plt.legend()\n",
        "plt.show();"
      ],
      "execution_count": 18,
      "outputs": [
        {
          "output_type": "display_data",
          "data": {
            "image/png": "[encoded data removed]",
            "text/plain": [
              "<Figure size 720x504 with 1 Axes>"
            ]
          },
          "metadata": {
            "tags": [],
            "needs_background": "light"
          }
        }
      ]
    },
    {
      "cell_type": "markdown",
      "metadata": {
        "id": "8Zj2p8NAkRLD"
      },
      "source": [
        "TODO: Replace the function below with the improved plot function for time series"
      ]
    },
    {
      "cell_type": "code",
      "metadata": {
        "id": "dx0wUhtOW_VX"
      },
      "source": [
        "def plot_zoomed_in(new_preds=None, new_preds_name=\"New Preds\", zoom_timesteps=100, plot_naive=True):\n",
        "  # Plot naive forecast zoomed in\n",
        "  plt.figure(figsize=(10, 7))\n",
        "  plt.plot(X_test[-zoom_timesteps:], y_test[-zoom_timesteps:], label=\"Test data\")\n",
        "  if plot_naive:\n",
        "    plt.plot(X_test[1:][-zoom_timesteps:], naive_forecast[-zoom_timesteps:], label=\"Naive forecast\")\n",
        "  if new_preds != None:\n",
        "    plt.plot(X_test[-zoom_timesteps:], new_preds[-zoom_timesteps:], label=new_preds_name)\n",
        "  plt.xlabel(\"Date\")\n",
        "  plt.ylabel(\"BTC Price\")\n",
        "  plt.legend()\n",
        "  plt.show();"
      ],
      "execution_count": 19,
      "outputs": []
    },
    {
      "cell_type": "code",
      "metadata": {
        "colab": {
          "base_uri": "https://localhost:8080/",
          "height": 442
        },
        "id": "E1gbUOr3U5Vt",
        "outputId": "fd440a22-e429-40f8-8061-98b933a5d8dd"
      },
      "source": [
        "plot_zoomed_in()"
      ],
      "execution_count": 20,
      "outputs": [
        {
          "output_type": "display_data",
          "data": {
            "image/png": "[encoded data removed]",
            "text/plain": [
              "<Figure size 720x504 with 1 Axes>"
            ]
          },
          "metadata": {
            "tags": [],
            "needs_background": "light"
          }
        }
      ]
    },
    {
      "cell_type": "markdown",
      "metadata": {
        "id": "UdK4KoFnA90I"
      },
      "source": [
        "## TODO: Evaluating a time series model\n",
        "\n",
        "TK - this can be a function for each model (compares predictions to ground truth...)\n",
        "\n",
        "TK - metrics for evaluating time series models: https://otexts.com/fpp2/accuracy.html"
      ]
    },
    {
      "cell_type": "code",
      "metadata": {
        "id": "ljaO69huYCZD"
      },
      "source": [
        "import tensorflow as tf"
      ],
      "execution_count": 21,
      "outputs": []
    },
    {
      "cell_type": "code",
      "metadata": {
        "id": "ZaSHxVMqYBnG"
      },
      "source": [
        "def scaled_mape(y_true, y_pred):\n",
        "  return tf.reduce_mean(200 * (tf.abs(y_true - y_pred)/(tf.abs(y_true) + tf.abs(y_pred))))"
      ],
      "execution_count": 22,
      "outputs": []
    },
    {
      "cell_type": "code",
      "metadata": {
        "id": "MwMeVgRXWaJp"
      },
      "source": [
        "def evaluate_preds(y_true, y_pred):\n",
        "  # Make sure float32 (for metric calculations)\n",
        "  y_true = tf.cast(y_true, dtype=tf.float32)\n",
        "  y_pred = tf.cast(y_pred, dtype=tf.float32)\n",
        "\n",
        "  # Calculate various metrics\n",
        "  mae = tf.keras.metrics.mean_absolute_error(y_true, y_pred)\n",
        "  mse = tf.keras.metrics.mean_squared_error(y_true, y_pred)\n",
        "  mape = tf.keras.metrics.mean_absolute_percentage_error(y_true, y_pred)\n",
        "  smape = scaled_mape(y_true, y_pred)\n",
        "  return {\"mae\": mae.numpy(),\n",
        "          \"mse\": mse.numpy(),\n",
        "          \"mape\": mape.numpy(),\n",
        "          \"smape\": smape.numpy()}"
      ],
      "execution_count": 23,
      "outputs": []
    },
    {
      "cell_type": "code",
      "metadata": {
        "colab": {
          "base_uri": "https://localhost:8080/"
        },
        "id": "HbJlsvUwYEsf",
        "outputId": "90fccc8e-06b3-4228-b274-be00a56f83fd"
      },
      "source": [
        "naive_results = evaluate_preds(y_true=y_test[1:],\n",
        "                               y_pred=naive_forecast)\n",
        "naive_results"
      ],
      "execution_count": 24,
      "outputs": [
        {
          "output_type": "execute_result",
          "data": {
            "text/plain": [
              "{'mae': 567.9802, 'mape': 2.516525, 'mse': 1147547.0, 'smape': 2.5180573}"
            ]
          },
          "metadata": {
            "tags": []
          },
          "execution_count": 24
        }
      ]
    },
    {
      "cell_type": "markdown",
      "metadata": {
        "id": "QNnFzKhzMaOC"
      },
      "source": [
        "## TODO: Model 1: Moving average\n",
        "\n",
        "TK - moving average can be our second baseline agaisnt the rest of the data..., this will still probably be another hard model to beat"
      ]
    },
    {
      "cell_type": "code",
      "metadata": {
        "id": "P_imOjoUMm3r"
      },
      "source": [
        ""
      ],
      "execution_count": 24,
      "outputs": []
    },
    {
      "cell_type": "code",
      "metadata": {
        "id": "F5qwcAw0Mzey"
      },
      "source": [
        ""
      ],
      "execution_count": 24,
      "outputs": []
    },
    {
      "cell_type": "code",
      "metadata": {
        "id": "84n0FKuIMzXl"
      },
      "source": [
        ""
      ],
      "execution_count": 24,
      "outputs": []
    },
    {
      "cell_type": "code",
      "metadata": {
        "id": "NJva8UgKMzS8"
      },
      "source": [
        ""
      ],
      "execution_count": 24,
      "outputs": []
    },
    {
      "cell_type": "markdown",
      "metadata": {
        "id": "e8AzwUvjBkgY"
      },
      "source": [
        "## Windowing dataset\n",
        "\n",
        "Why do we window?\n",
        "\n",
        "TODO: We can turn our time series data into a **supervised learning problem**: use windows of the past to predict the future."
      ]
    },
    {
      "cell_type": "code",
      "metadata": {
        "colab": {
          "base_uri": "https://localhost:8080/"
        },
        "id": "nIo5R-I8ZJZS",
        "outputId": "dfebf103-3bc6-4d66-8612-37c63e8a68ed"
      },
      "source": [
        "X_train, y_train"
      ],
      "execution_count": 25,
      "outputs": [
        {
          "output_type": "execute_result",
          "data": {
            "text/plain": [
              "(array(['2013-10-01T00:00:00.000000000', '2013-10-02T00:00:00.000000000',\n",
              "        '2013-10-03T00:00:00.000000000', ...,\n",
              "        '2019-11-05T00:00:00.000000000', '2019-11-06T00:00:00.000000000',\n",
              "        '2019-11-07T00:00:00.000000000'], dtype='datetime64[ns]'),\n",
              " array([ 123.65499   ,  125.455     ,  108.58483   , ..., 9369.62808116,\n",
              "        9326.59962378, 9335.75240233]))"
            ]
          },
          "metadata": {
            "tags": []
          },
          "execution_count": 25
        }
      ]
    },
    {
      "cell_type": "code",
      "metadata": {
        "colab": {
          "base_uri": "https://localhost:8080/"
        },
        "id": "V413SOWmZJVW",
        "outputId": "f38e5111-d18f-43c3-912c-54c56c80cdb3"
      },
      "source": [
        "X_test[:10], y_test[:10]"
      ],
      "execution_count": 26,
      "outputs": [
        {
          "output_type": "execute_result",
          "data": {
            "text/plain": [
              "(array(['2019-11-08T00:00:00.000000000', '2019-11-09T00:00:00.000000000',\n",
              "        '2019-11-10T00:00:00.000000000', '2019-11-11T00:00:00.000000000',\n",
              "        '2019-11-12T00:00:00.000000000', '2019-11-13T00:00:00.000000000',\n",
              "        '2019-11-14T00:00:00.000000000', '2019-11-15T00:00:00.000000000',\n",
              "        '2019-11-16T00:00:00.000000000', '2019-11-17T00:00:00.000000000'],\n",
              "       dtype='datetime64[ns]'),\n",
              " array([9226.48582088, 8794.35864452, 8798.04205463, 9081.18687849,\n",
              "        8711.53433917, 8760.89271814, 8749.52059102, 8656.97092235,\n",
              "        8500.64355816, 8469.2608989 ]))"
            ]
          },
          "metadata": {
            "tags": []
          },
          "execution_count": 26
        }
      ]
    },
    {
      "cell_type": "markdown",
      "metadata": {
        "id": "IxZ6h88QZfOs"
      },
      "source": [
        "Want:\n",
        "\n",
        "```\n",
        "# Window for a week (univariate time series)\n",
        "[0, 1, 2, 3, 4, 5, 6] -> [7]\n",
        "[1, 2, 3, 4, 5, 6, 7] -> [8]\n",
        "[2, 3, 4, 5, 6, 7, 8] -> [9]\n",
        "```"
      ]
    },
    {
      "cell_type": "code",
      "metadata": {
        "id": "LibzWQXM2ib-"
      },
      "source": [
        "HORIZON = 1 # predict 1 step at a time\n",
        "WINDOW_SIZE = 10 # use 10 timesteps to predict the horizon"
      ],
      "execution_count": 27,
      "outputs": []
    },
    {
      "cell_type": "code",
      "metadata": {
        "id": "zV8pv5K_x81E"
      },
      "source": [
        "# Create function to label windowed data\n",
        "def get_labelled_windows(x, horizon=1):\n",
        "  \"\"\"\n",
        "  Creates labels for windowed dataset.\n",
        "\n",
        "  E.g. if horizon=1 (default)\n",
        "  [1, 2, 3, 4, 5, 6] -> ([1, 2, 3, 4, 5], [6])\n",
        "  \"\"\"\n",
        "  return x[:, :-horizon], x[:, -horizon:]"
      ],
      "execution_count": 28,
      "outputs": []
    },
    {
      "cell_type": "code",
      "metadata": {
        "id": "apea0wiJyCI6"
      },
      "source": [
        "# Create function to view NumPy arrays as windows\n",
        "def make_windows(x, window_size=10, horizon=1):\n",
        "  \"\"\"\n",
        "  Turns a 1D array into a 2D array of sequential windows of window_size.\n",
        "  \"\"\"\n",
        "  # print(len(x)-1)\n",
        "  start = len(x) % window_size # account for data which doesn't fit into window, cut off at start\n",
        "  window_step = np.expand_dims(np.arange(window_size+horizon), axis=0) # create 2D array of window_size\n",
        "  # print(f\"Window step:\\n {window_step[-5:]}\")\n",
        "  window_indexes = start + window_step + np.expand_dims(np.arange(len(x)-(window_size+horizon+start-1)), axis=0).T # create 2D array of windows of size window_size\n",
        "  # print(f\"Window indexes:\\n {window_indexes[:2], window_indexes[-2:]}\")\n",
        "  windowed_array = x[window_indexes] # get the original array indexed with windows\n",
        "  windows, labels = get_labelled_windows(windowed_array, horizon=horizon)\n",
        "  return windows, labels"
      ],
      "execution_count": 29,
      "outputs": []
    },
    {
      "cell_type": "code",
      "metadata": {
        "colab": {
          "base_uri": "https://localhost:8080/"
        },
        "id": "u7Yc3V7fc1UG",
        "outputId": "9d473bba-ce78-45dc-b0a6-e31b217200bf"
      },
      "source": [
        "full_windows, full_labels = make_windows(prices, window_size=WINDOW_SIZE, horizon=HORIZON)\n",
        "len(full_windows), len(full_labels)"
      ],
      "execution_count": 30,
      "outputs": [
        {
          "output_type": "execute_result",
          "data": {
            "text/plain": [
              "(2770, 2770)"
            ]
          },
          "metadata": {
            "tags": []
          },
          "execution_count": 30
        }
      ]
    },
    {
      "cell_type": "markdown",
      "metadata": {
        "id": "kmuTc0NDYj3l"
      },
      "source": [
        "### TODO: Make train/test splits after windowing, this helps with evaluation..."
      ]
    },
    {
      "cell_type": "code",
      "metadata": {
        "id": "o_8BRgb8YtP3"
      },
      "source": [
        "# Make the train/test splits\n",
        "def make_train_test_splits(windows, labels, test_split=0.2):\n",
        "  \"\"\"\n",
        "  Splits matching pairs of windows and labels into train and test splits.\n",
        "  \"\"\"\n",
        "  split_size = int(len(windows) * (1-test_split))\n",
        "  train_windows = windows[:split_size]\n",
        "  train_labels = labels[:split_size]\n",
        "  test_windows = windows[split_size:]\n",
        "  test_labels = labels[split_size:]\n",
        "  return train_windows, test_windows, train_labels, test_labels"
      ],
      "execution_count": 31,
      "outputs": []
    },
    {
      "cell_type": "code",
      "metadata": {
        "colab": {
          "base_uri": "https://localhost:8080/"
        },
        "id": "z_xY8T7HEaoU",
        "outputId": "22f795a0-8669-41b4-9e02-516722495a98"
      },
      "source": [
        "train_windows, test_windows, train_labels, test_labels = make_train_test_splits(full_windows, full_labels)\n",
        "len(train_windows), len(test_windows), len(train_labels), len(test_labels)"
      ],
      "execution_count": 32,
      "outputs": [
        {
          "output_type": "execute_result",
          "data": {
            "text/plain": [
              "(2216, 554, 2216, 554)"
            ]
          },
          "metadata": {
            "tags": []
          },
          "execution_count": 32
        }
      ]
    },
    {
      "cell_type": "code",
      "metadata": {
        "colab": {
          "base_uri": "https://localhost:8080/"
        },
        "id": "DDgyT7Gix1fH",
        "outputId": "9c8bf58e-d63b-46c2-96da-cae2244b6e83"
      },
      "source": [
        "train_windows[:5], train_labels[:5]"
      ],
      "execution_count": 33,
      "outputs": [
        {
          "output_type": "execute_result",
          "data": {
            "text/plain": [
              "(array([[123.033  , 124.049  , 125.96116, 125.27966, 125.9275 , 126.38333,\n",
              "         135.24199, 133.20333, 142.76333, 137.92333],\n",
              "        [124.049  , 125.96116, 125.27966, 125.9275 , 126.38333, 135.24199,\n",
              "         133.20333, 142.76333, 137.92333, 142.95166],\n",
              "        [125.96116, 125.27966, 125.9275 , 126.38333, 135.24199, 133.20333,\n",
              "         142.76333, 137.92333, 142.95166, 152.55183],\n",
              "        [125.27966, 125.9275 , 126.38333, 135.24199, 133.20333, 142.76333,\n",
              "         137.92333, 142.95166, 152.55183, 160.33883],\n",
              "        [125.9275 , 126.38333, 135.24199, 133.20333, 142.76333, 137.92333,\n",
              "         142.95166, 152.55183, 160.33883, 164.31499]]), array([[142.95166],\n",
              "        [152.55183],\n",
              "        [160.33883],\n",
              "        [164.31499],\n",
              "        [177.63333]]))"
            ]
          },
          "metadata": {
            "tags": []
          },
          "execution_count": 33
        }
      ]
    },
    {
      "cell_type": "markdown",
      "metadata": {
        "id": "PQX0PF5jV4aq"
      },
      "source": [
        "## TODO: Make a modelling checkpoint... \n",
        "\n",
        "We need to save our model's best performance. "
      ]
    },
    {
      "cell_type": "code",
      "metadata": {
        "id": "knBwm-bCWWk_"
      },
      "source": [
        "import os"
      ],
      "execution_count": 34,
      "outputs": []
    },
    {
      "cell_type": "code",
      "metadata": {
        "id": "Xh8i1f7rV_P2"
      },
      "source": [
        "def create_model_checkpoint(model_name, save_path=\"model_experiments\"):\n",
        "  return tf.keras.callbacks.ModelCheckpoint(filepath=os.path.join(save_path, model_name),\n",
        "                                            verbose=0,\n",
        "                                            save_best_only=True)"
      ],
      "execution_count": 35,
      "outputs": []
    },
    {
      "cell_type": "markdown",
      "metadata": {
        "id": "j5uw1AaVY-J9"
      },
      "source": [
        "## TODO: Model X: Dense model "
      ]
    },
    {
      "cell_type": "code",
      "metadata": {
        "id": "Fadbh94rY-WQ"
      },
      "source": [
        "import tensorflow as tf\n",
        "from tensorflow.keras import layers"
      ],
      "execution_count": 36,
      "outputs": []
    },
    {
      "cell_type": "code",
      "metadata": {
        "colab": {
          "base_uri": "https://localhost:8080/"
        },
        "id": "T3ytqCyZ3O4T",
        "outputId": "a2732557-5efd-4cea-d133-5d4e64ae2578"
      },
      "source": [
        "len(train_windows), len(test_windows), len(full_windows)"
      ],
      "execution_count": 37,
      "outputs": [
        {
          "output_type": "execute_result",
          "data": {
            "text/plain": [
              "(2216, 554, 2770)"
            ]
          },
          "metadata": {
            "tags": []
          },
          "execution_count": 37
        }
      ]
    },
    {
      "cell_type": "code",
      "metadata": {
        "id": "Slr5hrJHY_Ed",
        "colab": {
          "base_uri": "https://localhost:8080/"
        },
        "outputId": "9b398b4d-bc2a-4064-edda-b05a7f269ee7"
      },
      "source": [
        "model_1 = tf.keras.Sequential([\n",
        "  layers.Dense(128, activation=\"relu\"),\n",
        "  layers.Dense(HORIZON)                              \n",
        "], name=\"model_1_dense\")\n",
        "\n",
        "model_1.compile(loss=\"mae\",\n",
        "                optimizer=tf.keras.optimizers.Adam())\n",
        "\n",
        "model_1.fit(x=train_windows, \n",
        "            y=train_labels,\n",
        "            epochs=10,\n",
        "            validation_data=(test_windows, test_labels),\n",
        "            callbacks=[create_model_checkpoint(model_name=model_1.name)])"
      ],
      "execution_count": 38,
      "outputs": [
        {
          "output_type": "stream",
          "text": [
            "Epoch 1/10\n",
            "70/70 [==============================] - 1s 8ms/step - loss: 1366.0869 - val_loss: 1366.7527\n",
            "INFO:tensorflow:Assets written to: model_experiments/model_1_dense/assets\n",
            "Epoch 2/10\n",
            "70/70 [==============================] - 0s 2ms/step - loss: 201.6573 - val_loss: 983.4745\n",
            "INFO:tensorflow:Assets written to: model_experiments/model_1_dense/assets\n",
            "Epoch 3/10\n",
            "70/70 [==============================] - 0s 2ms/step - loss: 198.1819 - val_loss: 855.6984\n",
            "INFO:tensorflow:Assets written to: model_experiments/model_1_dense/assets\n",
            "Epoch 4/10\n",
            "70/70 [==============================] - 0s 2ms/step - loss: 172.1990 - val_loss: 986.4263\n",
            "Epoch 5/10\n",
            "70/70 [==============================] - 0s 2ms/step - loss: 160.8566 - val_loss: 833.6749\n",
            "INFO:tensorflow:Assets written to: model_experiments/model_1_dense/assets\n",
            "Epoch 6/10\n",
            "70/70 [==============================] - 0s 2ms/step - loss: 159.1194 - val_loss: 777.7642\n",
            "INFO:tensorflow:Assets written to: model_experiments/model_1_dense/assets\n",
            "Epoch 7/10\n",
            "70/70 [==============================] - 0s 2ms/step - loss: 154.5191 - val_loss: 798.4048\n",
            "Epoch 8/10\n",
            "70/70 [==============================] - 0s 2ms/step - loss: 145.9294 - val_loss: 829.6420\n",
            "Epoch 9/10\n",
            "70/70 [==============================] - 0s 2ms/step - loss: 160.7702 - val_loss: 754.8741\n",
            "INFO:tensorflow:Assets written to: model_experiments/model_1_dense/assets\n",
            "Epoch 10/10\n",
            "70/70 [==============================] - 0s 2ms/step - loss: 132.6721 - val_loss: 717.5797\n",
            "INFO:tensorflow:Assets written to: model_experiments/model_1_dense/assets\n"
          ],
          "name": "stdout"
        },
        {
          "output_type": "execute_result",
          "data": {
            "text/plain": [
              "<tensorflow.python.keras.callbacks.History at 0x7f9d67e93050>"
            ]
          },
          "metadata": {
            "tags": []
          },
          "execution_count": 38
        }
      ]
    },
    {
      "cell_type": "code",
      "metadata": {
        "id": "N1DbcEZBY_Bt",
        "colab": {
          "base_uri": "https://localhost:8080/"
        },
        "outputId": "89385336-e57e-433d-9282-e3cd10ae3980"
      },
      "source": [
        "# Evaluate\n",
        "model_1.evaluate(test_windows, test_labels)"
      ],
      "execution_count": 39,
      "outputs": [
        {
          "output_type": "stream",
          "text": [
            "18/18 [==============================] - 0s 1ms/step - loss: 717.5797\n"
          ],
          "name": "stdout"
        },
        {
          "output_type": "execute_result",
          "data": {
            "text/plain": [
              "717.5797119140625"
            ]
          },
          "metadata": {
            "tags": []
          },
          "execution_count": 39
        }
      ]
    },
    {
      "cell_type": "code",
      "metadata": {
        "colab": {
          "base_uri": "https://localhost:8080/"
        },
        "id": "FXey-AX-XZPK",
        "outputId": "53ef0279-8cfc-4f65-9842-98681668e12f"
      },
      "source": [
        "model_1 = tf.keras.models.load_model(\"/content/model_experiments/model_1_dense\")\n",
        "model_1.evaluate(test_windows, test_labels)"
      ],
      "execution_count": 40,
      "outputs": [
        {
          "output_type": "stream",
          "text": [
            "18/18 [==============================] - 0s 1ms/step - loss: 717.5797\n"
          ],
          "name": "stdout"
        },
        {
          "output_type": "execute_result",
          "data": {
            "text/plain": [
              "717.5797119140625"
            ]
          },
          "metadata": {
            "tags": []
          },
          "execution_count": 40
        }
      ]
    },
    {
      "cell_type": "markdown",
      "metadata": {
        "id": "-HfeTX5KhYin"
      },
      "source": [
        "### TODO: Making forecasts with a model\n",
        "\n",
        "* We could make forecasts on the test windows, however this would end up in less prediction values than in the `y_test`\n",
        "* Instead, we're going to make predictions on the full dataset windows "
      ]
    },
    {
      "cell_type": "code",
      "metadata": {
        "id": "hZrExWzyh3ur"
      },
      "source": [
        "def make_forecast(model, input_data):\n",
        "  \"\"\"\n",
        "  Uses model to make forecasts on input_data.\n",
        "\n",
        "  Input_data must be windowed version of whole dataset, otherwise forecasts won't match size of y_test.\n",
        "\n",
        "  Parameters\n",
        "  ----------\n",
        "  model: trained model \n",
        "  input_data: windowed input data (with windiw_size windows)\n",
        "\n",
        "  Returns model forecast on input_data from split_size-window_size onwards.\n",
        "  \"\"\"\n",
        "  forecast = model.predict(input_data)\n",
        "  return tf.squeeze(forecast) # return 1D array of predictions "
      ],
      "execution_count": 41,
      "outputs": []
    },
    {
      "cell_type": "code",
      "metadata": {
        "colab": {
          "base_uri": "https://localhost:8080/"
        },
        "id": "ND4uFaYdy463",
        "outputId": "dd78e1c8-e23d-4aac-a38b-c76183cfc5b5"
      },
      "source": [
        "model_1_preds = tf.squeeze(model_1.predict(test_windows))\n",
        "# adjusted_preds = preds[split_size-WINDOW_SIZE-HORIZON-start+1:]\n",
        "len(model_1_preds)"
      ],
      "execution_count": 42,
      "outputs": [
        {
          "output_type": "execute_result",
          "data": {
            "text/plain": [
              "554"
            ]
          },
          "metadata": {
            "tags": []
          },
          "execution_count": 42
        }
      ]
    },
    {
      "cell_type": "code",
      "metadata": {
        "colab": {
          "base_uri": "https://localhost:8080/"
        },
        "id": "gACmlubfdL8q",
        "outputId": "3f8fc25c-ea19-4836-c2aa-c732aa8f9d2b"
      },
      "source": [
        "model_1_preds[:10]"
      ],
      "execution_count": 43,
      "outputs": [
        {
          "output_type": "execute_result",
          "data": {
            "text/plain": [
              "<tf.Tensor: shape=(10,), dtype=float32, numpy=\n",
              "array([9009.081, 8981.244, 8903.947, 8813.185, 8877.062, 8769.377,\n",
              "       8571.949, 8623.911, 8526.039, 8320.32 ], dtype=float32)>"
            ]
          },
          "metadata": {
            "tags": []
          },
          "execution_count": 43
        }
      ]
    },
    {
      "cell_type": "code",
      "metadata": {
        "colab": {
          "base_uri": "https://localhost:8080/"
        },
        "id": "SXTL7WX-FNoF",
        "outputId": "55f09b80-94f7-4c19-b8c1-ef67245ec9ae"
      },
      "source": [
        "# Test labels are the same as the backend of y_test (accounting for HORIZON size)\n",
        "y_test[-HORIZON:] == test_labels[-1]"
      ],
      "execution_count": 44,
      "outputs": [
        {
          "output_type": "execute_result",
          "data": {
            "text/plain": [
              "array([ True])"
            ]
          },
          "metadata": {
            "tags": []
          },
          "execution_count": 44
        }
      ]
    },
    {
      "cell_type": "code",
      "metadata": {
        "colab": {
          "base_uri": "https://localhost:8080/"
        },
        "id": "eHak7Jqd9aXv",
        "outputId": "2a67a936-857f-4a19-e123-63f88b12f94a"
      },
      "source": [
        "# TODO: Change this function to work with multi-level windows as well as single step\n",
        "# Evaluate preds\n",
        "model_1_results = evaluate_preds(y_true=tf.squeeze(test_labels), # reduce to right shape\n",
        "                                 y_pred=model_1_preds)\n",
        "model_1_results"
      ],
      "execution_count": 45,
      "outputs": [
        {
          "output_type": "execute_result",
          "data": {
            "text/plain": [
              "{'mae': 717.57965, 'mape': 3.3286731, 'mse': 1756533.4, 'smape': 3.2727804}"
            ]
          },
          "metadata": {
            "tags": []
          },
          "execution_count": 45
        }
      ]
    },
    {
      "cell_type": "code",
      "metadata": {
        "id": "Pmm8HkpuC-ya"
      },
      "source": [
        "# Create a function to plot time series data\n",
        "def plot_time_series(timesteps, values, format='-', start=0, end=None, label=None):\n",
        "  # Plot the series\n",
        "  plt.plot(timesteps[start:end], values[start:end], format, label=label)\n",
        "  plt.xlabel(\"Time\")\n",
        "  plt.ylabel(\"BTC Price\")\n",
        "  if label:\n",
        "    plt.legend(fontsize=14)\n",
        "  plt.grid(True)"
      ],
      "execution_count": 46,
      "outputs": []
    },
    {
      "cell_type": "code",
      "metadata": {
        "colab": {
          "base_uri": "https://localhost:8080/",
          "height": 442
        },
        "id": "wFKZFKBhE2Ng",
        "outputId": "2f5cdcd5-fe35-4d96-cea1-f912690d4992"
      },
      "source": [
        "plt.figure(figsize=(10, 7))\n",
        "plot_time_series(timesteps=X_train, values=y_train, label=\"train_data\")\n",
        "plot_time_series(timesteps=X_test, values=y_test, label=\"test_data\")"
      ],
      "execution_count": 47,
      "outputs": [
        {
          "output_type": "display_data",
          "data": {
            "image/png": "[encoded data removed]",
            "text/plain": [
              "<Figure size 720x504 with 1 Axes>"
            ]
          },
          "metadata": {
            "tags": [],
            "needs_background": "light"
          }
        }
      ]
    },
    {
      "cell_type": "code",
      "metadata": {
        "colab": {
          "base_uri": "https://localhost:8080/",
          "height": 442
        },
        "id": "Wgxoqg_tIhFJ",
        "outputId": "342c9af0-71a9-4f52-c5bb-566cb7e3b90e"
      },
      "source": [
        "offset = 300\n",
        "plt.figure(figsize=(10, 7))\n",
        "\n",
        "# Account for the test_window offset\n",
        "plot_time_series(timesteps=X_test[-len(test_windows):], values=test_labels[:, 0], start=offset, label=\"test_data\")\n",
        "plot_time_series(timesteps=X_test[-len(test_windows):], values=model_1_preds, start=offset, label=\"model_1_preds\")"
      ],
      "execution_count": 48,
      "outputs": [
        {
          "output_type": "display_data",
          "data": {
            "image/png": "[encoded data removed]",
            "text/plain": [
              "<Figure size 720x504 with 1 Axes>"
            ]
          },
          "metadata": {
            "tags": [],
            "needs_background": "light"
          }
        }
      ]
    },
    {
      "cell_type": "markdown",
      "metadata": {
        "id": "fr18ffVq4i6m"
      },
      "source": [
        "## TODO: Model X: Larger window + horizon\n",
        "\n",
        "TK - What happens if we make a larger window & horizon?\n",
        "\n",
        "* TK - Window & horizon values are values you can tune..."
      ]
    },
    {
      "cell_type": "code",
      "metadata": {
        "id": "Vz0eMi7F4wpn"
      },
      "source": [
        "HORIZON = 7 # predict a week at a time\n",
        "WINDOW_SIZE = 30 # use 30 timesteps in the past"
      ],
      "execution_count": 49,
      "outputs": []
    },
    {
      "cell_type": "code",
      "metadata": {
        "colab": {
          "base_uri": "https://localhost:8080/"
        },
        "id": "1HlYaAxr6UoC",
        "outputId": "7412658c-3c5e-4adf-e66b-f288b2c2a4a5"
      },
      "source": [
        "# Make windowed data with appropriate horizon and window sizes\n",
        "full_windows, full_labels = make_windows(prices, window_size=WINDOW_SIZE, horizon=HORIZON)\n",
        "len(full_windows), len(full_labels)"
      ],
      "execution_count": 50,
      "outputs": [
        {
          "output_type": "execute_result",
          "data": {
            "text/plain": [
              "(2724, 2724)"
            ]
          },
          "metadata": {
            "tags": []
          },
          "execution_count": 50
        }
      ]
    },
    {
      "cell_type": "code",
      "metadata": {
        "colab": {
          "base_uri": "https://localhost:8080/"
        },
        "id": "jWxYZtOuelzO",
        "outputId": "4e3237a0-3ace-4be0-bb87-0cfe6b332106"
      },
      "source": [
        "# Make train and testing windows\n",
        "train_windows, test_windows, train_labels, test_labels = make_train_test_splits(windows=full_windows, labels=full_labels)\n",
        "len(train_windows), len(test_windows), len(train_labels), len(test_labels)"
      ],
      "execution_count": 51,
      "outputs": [
        {
          "output_type": "execute_result",
          "data": {
            "text/plain": [
              "(2179, 545, 2179, 545)"
            ]
          },
          "metadata": {
            "tags": []
          },
          "execution_count": 51
        }
      ]
    },
    {
      "cell_type": "code",
      "metadata": {
        "colab": {
          "base_uri": "https://localhost:8080/"
        },
        "id": "b_oz5aJE6UwN",
        "outputId": "5de36e6d-0d91-4722-9c40-3ba917dd4c63"
      },
      "source": [
        "model_2 = tf.keras.Sequential([\n",
        "  layers.Dense(128, activation=\"relu\"),\n",
        "  layers.Dense(HORIZON) # need to predict horizon number of steps into the future\n",
        "], name=\"model_2_dense\")\n",
        "\n",
        "model_2.compile(loss=\"mae\",\n",
        "                optimizer=tf.keras.optimizers.Adam())\n",
        "\n",
        "model_2.fit(train_windows,\n",
        "            train_labels,\n",
        "            epochs=10,\n",
        "            validation_data=(test_windows, test_labels),\n",
        "            callbacks=[create_model_checkpoint(model_name=model_2.name)])"
      ],
      "execution_count": 52,
      "outputs": [
        {
          "output_type": "stream",
          "text": [
            "Epoch 1/10\n",
            "69/69 [==============================] - 1s 4ms/step - loss: 1788.9452 - val_loss: 2050.5278\n",
            "INFO:tensorflow:Assets written to: model_experiments/model_2_dense/assets\n",
            "Epoch 2/10\n",
            "69/69 [==============================] - 0s 2ms/step - loss: 401.6631 - val_loss: 1756.7352\n",
            "INFO:tensorflow:Assets written to: model_experiments/model_2_dense/assets\n",
            "Epoch 3/10\n",
            "69/69 [==============================] - 0s 2ms/step - loss: 336.9275 - val_loss: 1594.0482\n",
            "INFO:tensorflow:Assets written to: model_experiments/model_2_dense/assets\n",
            "Epoch 4/10\n",
            "69/69 [==============================] - 0s 2ms/step - loss: 294.6196 - val_loss: 1695.4669\n",
            "Epoch 5/10\n",
            "69/69 [==============================] - 0s 2ms/step - loss: 323.8751 - val_loss: 1792.1202\n",
            "Epoch 6/10\n",
            "69/69 [==============================] - 0s 2ms/step - loss: 283.3140 - val_loss: 1455.8199\n",
            "INFO:tensorflow:Assets written to: model_experiments/model_2_dense/assets\n",
            "Epoch 7/10\n",
            "69/69 [==============================] - 0s 2ms/step - loss: 263.1933 - val_loss: 1949.8972\n",
            "Epoch 8/10\n",
            "69/69 [==============================] - 0s 2ms/step - loss: 275.8281 - val_loss: 1386.2922\n",
            "INFO:tensorflow:Assets written to: model_experiments/model_2_dense/assets\n",
            "Epoch 9/10\n",
            "69/69 [==============================] - 0s 2ms/step - loss: 272.4185 - val_loss: 1568.6349\n",
            "Epoch 10/10\n",
            "69/69 [==============================] - 0s 2ms/step - loss: 275.6410 - val_loss: 1498.2631\n"
          ],
          "name": "stdout"
        },
        {
          "output_type": "execute_result",
          "data": {
            "text/plain": [
              "<tensorflow.python.keras.callbacks.History at 0x7f9d6452b6d0>"
            ]
          },
          "metadata": {
            "tags": []
          },
          "execution_count": 52
        }
      ]
    },
    {
      "cell_type": "code",
      "metadata": {
        "id": "W42Fa-aO8rhg",
        "colab": {
          "base_uri": "https://localhost:8080/"
        },
        "outputId": "6fbc8cb9-ba68-40e1-cb85-ab6e13bf75f8"
      },
      "source": [
        "# Evaluate model 2 preds\n",
        "model_2.evaluate(test_windows, test_labels)"
      ],
      "execution_count": 53,
      "outputs": [
        {
          "output_type": "stream",
          "text": [
            "18/18 [==============================] - 0s 982us/step - loss: 1498.2631\n"
          ],
          "name": "stdout"
        },
        {
          "output_type": "execute_result",
          "data": {
            "text/plain": [
              "1498.2630615234375"
            ]
          },
          "metadata": {
            "tags": []
          },
          "execution_count": 53
        }
      ]
    },
    {
      "cell_type": "code",
      "metadata": {
        "colab": {
          "base_uri": "https://localhost:8080/"
        },
        "id": "c_hG89F5YV4i",
        "outputId": "474582dd-432a-4317-f8a7-70ebaa0ba680"
      },
      "source": [
        "# Load in best performing model\n",
        "model_2 = tf.keras.models.load_model(\"model_experiments/model_2_dense/\")\n",
        "model_2.evaluate(test_windows, test_labels)"
      ],
      "execution_count": 54,
      "outputs": [
        {
          "output_type": "stream",
          "text": [
            "18/18 [==============================] - 0s 1ms/step - loss: 1386.2922\n"
          ],
          "name": "stdout"
        },
        {
          "output_type": "execute_result",
          "data": {
            "text/plain": [
              "1386.292236328125"
            ]
          },
          "metadata": {
            "tags": []
          },
          "execution_count": 54
        }
      ]
    },
    {
      "cell_type": "code",
      "metadata": {
        "id": "TPfvPgkUknY5"
      },
      "source": [
        "# Get forecast predictions\n",
        "model_2_preds = make_forecast(model_2,\n",
        "                              input_data=test_windows)"
      ],
      "execution_count": 55,
      "outputs": []
    },
    {
      "cell_type": "code",
      "metadata": {
        "colab": {
          "base_uri": "https://localhost:8080/"
        },
        "id": "PGbTLohj4YiX",
        "outputId": "a4572f20-03be-4dcb-93f0-b0ccf6ce5627"
      },
      "source": [
        "# Each prediction is a window of 7 steps \n",
        "model_2_preds.shape, test_labels.shape"
      ],
      "execution_count": 56,
      "outputs": [
        {
          "output_type": "execute_result",
          "data": {
            "text/plain": [
              "(TensorShape([545, 7]), (545, 7))"
            ]
          },
          "metadata": {
            "tags": []
          },
          "execution_count": 56
        }
      ]
    },
    {
      "cell_type": "code",
      "metadata": {
        "colab": {
          "base_uri": "https://localhost:8080/"
        },
        "id": "dy7XZx7FllHX",
        "outputId": "9fbcf661-0da7-4c33-d5f7-87160e7315f8"
      },
      "source": [
        "# Evaluate results for model 2 predictions, these will be metrics across axes (the shapes above)\n",
        "model_2_results = evaluate_preds(y_true=test_labels,\n",
        "                                 y_pred=model_2_preds)\n",
        "model_2_results"
      ],
      "execution_count": 57,
      "outputs": [
        {
          "output_type": "execute_result",
          "data": {
            "text/plain": [
              "{'mae': array([ 573.0776  ,  654.55505 ,  686.5005  ,  750.38293 ,  796.66785 ,\n",
              "         904.2235  , 1000.20264 ,  929.39746 ,  669.0141  ,  251.09131 ,\n",
              "         237.92348 ,  237.30734 ,  218.25328 ,  280.6321  ,  171.19943 ,\n",
              "         181.03816 ,  210.96443 ,  199.13777 ,  231.43338 ,  137.28947 ,\n",
              "         110.533   ,  137.12576 ,   95.45368 ,  144.05078 ,  194.57156 ,\n",
              "         281.0325  ,  373.05734 ,  416.1626  ,  418.6494  ,  358.22894 ,\n",
              "         383.8188  ,  294.79276 ,  243.87953 ,  225.55127 ,  279.11978 ,\n",
              "         207.75084 ,   95.98619 ,  147.94482 ,  128.31808 ,  192.41756 ,\n",
              "          69.72587 ,  105.43883 ,   69.79018 ,   70.55448 ,  129.00941 ,\n",
              "         144.86287 ,  173.90486 ,  229.96672 ,  294.33133 ,  412.16254 ,\n",
              "         466.8614  ,  515.1449  ,  526.5519  ,  658.11066 ,  520.4223  ,\n",
              "         422.6213  ,  405.82986 ,  495.282   ,  509.4929  ,  544.64923 ,\n",
              "         464.4739  ,  580.10516 ,  398.4357  ,  178.28098 ,  136.76492 ,\n",
              "         256.39664 ,  419.41586 ,  475.62625 ,  372.40305 ,  365.89438 ,\n",
              "         419.31558 ,  427.2228  ,  524.8941  ,  613.24023 ,  683.86523 ,\n",
              "         627.19867 ,  496.33203 ,  352.2574  ,  190.64635 ,  246.07018 ,\n",
              "         314.34125 ,  410.22504 ,  364.06696 ,  548.7857  ,  554.81415 ,\n",
              "         502.02914 ,  547.3239  ,  415.5516  ,  237.42467 ,  205.0731  ,\n",
              "         307.643   ,  389.22992 ,  524.02136 ,  665.09656 ,  630.06836 ,\n",
              "         510.9435  ,  337.22113 ,  451.86996 ,  409.31332 ,  489.53976 ,\n",
              "         541.8624  ,  703.58563 ,  911.5922  ,  912.48004 ,  949.7081  ,\n",
              "         604.40656 ,  475.09207 ,  279.49442 ,  168.7327  ,  329.8367  ,\n",
              "         347.02838 ,  443.33588 ,  526.97253 ,  998.3521  , 1430.7344  ,\n",
              "        2005.5404  , 2169.39    , 2387.6687  , 2496.9683  , 2738.6165  ,\n",
              "        1766.9941  , 1062.9393  ,  702.59235 ,  465.78647 ,  464.62842 ,\n",
              "         704.0845  ,  705.1159  ,  718.05176 ,  604.00183 ,  531.4534  ,\n",
              "         290.98584 ,  366.1875  ,  263.20117 ,  269.229   ,  267.04193 ,\n",
              "         375.7679  ,  389.35178 ,  603.00165 ,  456.3278  ,  463.20258 ,\n",
              "         583.65656 ,  476.21127 ,  196.48256 ,  247.91531 ,  319.24387 ,\n",
              "         207.5835  ,  478.59995 ,  659.5563  ,  723.9855  ,  326.352   ,\n",
              "         243.49854 ,  250.01472 ,  218.04611 ,  255.81258 ,  247.84543 ,\n",
              "         265.42523 ,  228.23912 ,  327.39215 ,  372.1564  ,  420.06842 ,\n",
              "         434.96805 ,  652.20746 ,  630.9804  ,  743.84534 ,  874.4328  ,\n",
              "        1074.7004  , 1081.7379  , 1102.7817  ,  905.7736  ,  764.56573 ,\n",
              "         642.816   ,  554.1497  ,  424.77664 ,  462.1928  ,  434.08398 ,\n",
              "         449.8111  ,  492.4841  ,  671.5156  ,  690.304   ,  422.9301  ,\n",
              "         400.03403 ,  345.85883 ,  377.1882  ,  287.72836 ,  306.28906 ,\n",
              "         237.65527 ,  314.8227  ,  581.9209  ,  600.86664 ,  551.18097 ,\n",
              "         418.7952  ,  308.6102  ,  370.33344 ,  321.2507  ,  589.3444  ,\n",
              "         749.4425  ,  794.86145 ,  490.92105 ,  377.05453 ,  250.70383 ,\n",
              "         318.48227 ,  260.72266 ,  181.23201 ,  268.57574 ,  191.994   ,\n",
              "         206.79436 ,  288.49442 ,  304.90527 ,  350.68484 ,  235.15807 ,\n",
              "         408.06906 ,  251.3951  ,  386.36578 ,  305.1211  ,  191.095   ,\n",
              "         226.50154 ,  305.6176  ,  312.21762 ,  250.22795 ,  187.89369 ,\n",
              "         172.47336 ,  287.2553  ,  242.64523 ,  352.50668 ,  277.95718 ,\n",
              "         284.31528 ,  323.9463  ,   75.04757 ,  123.37709 ,  147.19936 ,\n",
              "         134.7493  ,  148.07072 ,  187.34068 ,  200.8881  ,  143.1642  ,\n",
              "         199.59557 ,  112.436386,  202.17899 ,  185.6123  ,  183.113   ,\n",
              "         127.12542 ,  159.66797 ,  189.72545 ,  144.97935 ,  176.15388 ,\n",
              "         175.17104 ,  218.10715 ,  234.98953 ,  310.79477 ,  329.68597 ,\n",
              "         612.0128  ,  699.1296  ,  867.9185  ,  968.6657  , 1162.942   ,\n",
              "        1400.5282  , 1447.2483  ,  971.608   ,  671.3697  ,  473.96957 ,\n",
              "         315.4478  ,  381.19614 ,  306.5996  ,  254.27176 ,  213.60031 ,\n",
              "         219.05943 ,  208.41379 ,  141.16853 ,  214.46623 ,  283.58746 ,\n",
              "         332.3178  ,  408.03906 ,  290.49344 ,  229.92033 ,  256.75824 ,\n",
              "         172.86133 ,  150.16225 ,  278.55902 ,  374.6006  ,  392.6487  ,\n",
              "         341.95703 ,  455.4534  ,  491.24008 ,  265.21625 ,  256.81445 ,\n",
              "         163.04994 ,  292.2895  ,  187.45326 ,  288.95953 ,  323.5579  ,\n",
              "         590.42145 ,  784.02704 ,  978.3245  , 1295.0104  , 1458.2953  ,\n",
              "        1172.5436  ,  916.00165 ,  421.39536 ,  266.01996 ,  184.96121 ,\n",
              "         237.24178 ,  451.60254 ,  446.67188 ,  476.04074 ,  517.07477 ,\n",
              "         505.6027  ,  384.37027 ,  170.55078 ,  212.61496 ,  268.78488 ,\n",
              "         362.85757 ,  302.58844 ,  370.5389  ,  218.58803 ,  137.12375 ,\n",
              "         129.82365 ,  103.64007 ,   96.435684,  162.42857 ,  238.00627 ,\n",
              "         364.63058 ,  397.23215 ,  444.43024 ,  436.9891  ,  265.1963  ,\n",
              "         269.4435  ,  411.80875 ,  475.3513  ,  530.93976 ,  700.13    ,\n",
              "         675.60675 ,  521.2499  ,  327.1829  ,  219.40834 ,  155.62123 ,\n",
              "         262.1321  ,  510.35004 ,  690.59973 ,  804.44574 ,  963.6547  ,\n",
              "        1165.0266  , 1160.6504  , 1340.5382  ,  876.67883 ,  596.3161  ,\n",
              "         443.70102 ,  447.7814  ,  321.2023  ,  353.04938 ,  272.64523 ,\n",
              "         284.36606 ,  507.55328 ,  762.1059  ,  797.6674  ,  982.94073 ,\n",
              "        1112.371   , 1202.5868  , 1323.8362  ,  848.75867 ,  609.56683 ,\n",
              "         706.42566 ,  664.2797  ,  666.2355  ,  757.0915  , 1004.7458  ,\n",
              "        1074.6237  , 1220.704   , 1462.0172  , 1701.0852  , 1767.7578  ,\n",
              "        1532.1945  , 1401.6953  ,  846.7034  ,  510.88422 ,  685.80304 ,\n",
              "         760.9093  , 1028.3094  , 1101.9294  , 1080.2606  ,  789.52734 ,\n",
              "         942.6939  ,  924.733   , 1002.4336  ,  724.8597  ,  497.3934  ,\n",
              "         341.95508 ,  635.3825  ,  772.2835  ,  790.6119  ,  832.5181  ,\n",
              "         715.67773 ,  426.5522  ,  722.2578  , 1295.2012  , 1996.6552  ,\n",
              "        2780.3008  , 3408.1719  , 3552.3735  , 3798.9634  , 3203.2336  ,\n",
              "        2208.9668  , 1622.3728  , 1178.3713  , 1441.2799  , 1547.9629  ,\n",
              "        1885.4052  , 2288.5195  , 3104.6794  , 3602.7285  , 3688.7854  ,\n",
              "        3854.1907  , 3744.8323  , 4159.731   , 4310.758   , 4937.1924  ,\n",
              "        5897.2944  , 5791.7534  , 5548.7446  , 5547.6655  , 4627.9663  ,\n",
              "        3252.5676  , 2148.4575  , 1770.3594  , 2744.8962  , 3959.5916  ,\n",
              "        2627.8806  ,  841.93414 ,  869.9196  , 2412.6836  , 2540.23    ,\n",
              "        2991.3728  , 3552.6394  , 4442.8784  , 4850.818   , 4277.8857  ,\n",
              "        2244.0315  , 1794.4896  , 1550.133   , 1181.2598  , 1843.0065  ,\n",
              "        2385.2297  , 3808.9607  , 3931.273   , 2771.4158  , 3284.7341  ,\n",
              "        3876.2576  , 5523.6865  , 5988.603   , 5993.321   , 6955.6323  ,\n",
              "        8119.6196  , 6946.437   , 7376.358   , 5671.426   , 4645.7     ,\n",
              "        4321.391   , 3238.3364  , 2896.4448  , 3208.941   , 4215.886   ,\n",
              "        4068.5     , 4005.616   , 3118.4236  , 3189.6758  , 3954.2544  ,\n",
              "        5557.264   , 7772.633   , 9048.241   , 7250.144   , 5242.318   ,\n",
              "        3654.5005  , 1902.1797  , 1461.9152  , 2598.6853  , 2922.2834  ,\n",
              "        3307.2473  , 3166.0095  , 4500.5923  , 4705.6577  , 6293.948   ,\n",
              "        7605.499   , 7277.3545  , 6468.801   , 4599.7314  , 4181.1772  ,\n",
              "        2411.3962  , 1614.0045  , 1684.212   , 1247.8661  , 1824.9967  ,\n",
              "        2706.3152  , 4254.927   , 4077.6902  , 4524.9497  , 5335.8994  ,\n",
              "        4676.328   , 3110.773   , 2524.6394  , 2015.5831  , 3243.4192  ,\n",
              "        3159.0881  , 3167.1206  , 2822.9727  , 1346.2678  ,  932.6976  ,\n",
              "        1149.6384  ,  923.0469  ,  821.61774 , 1056.9655  , 1320.6624  ,\n",
              "        1832.4481  , 2773.1926  , 3294.6763  , 3640.4487  , 3119.7478  ,\n",
              "        1959.1864  , 2043.712   , 2435.5447  , 4451.5024  , 6839.907   ,\n",
              "        8060.4497  , 9342.779   , 8665.062   , 7285.1016  , 6479.8765  ,\n",
              "        4692.0776  , 2621.3315  , 2569.644   , 3099.1106  , 4502.7017  ,\n",
              "        4692.675   , 3362.6636  , 2967.7683  , 2689.2896  , 2528.2556  ,\n",
              "        1430.077   , 1808.9303  , 1390.0033  , 1933.1964  , 1845.842   ,\n",
              "        2584.7903  , 3265.9114  , 4205.1084  , 6904.9233  , 8307.301   ],\n",
              "       dtype=float32),\n",
              " 'mape': array([ 6.8724265 ,  8.039929  ,  8.776968  ,  9.804778  , 10.7532015 ,\n",
              "        12.365736  , 13.783291  , 12.791629  ,  9.269118  ,  3.5028777 ,\n",
              "         3.2578797 ,  3.1711433 ,  2.8947215 ,  3.725599  ,  2.2853773 ,\n",
              "         2.4141579 ,  2.8570075 ,  2.7136912 ,  3.1324975 ,  1.876743  ,\n",
              "         1.4886978 ,  1.8606895 ,  1.2928953 ,  1.9810882 ,  2.6750543 ,\n",
              "         3.9133716 ,  5.233755  ,  5.9828987 ,  6.0436563 ,  5.187601  ,\n",
              "         5.5449924 ,  4.3254247 ,  3.5976458 ,  3.2293894 ,  3.8282242 ,\n",
              "         2.8812451 ,  1.329951  ,  2.0451999 ,  1.7762152 ,  2.652942  ,\n",
              "         0.9574309 ,  1.4609627 ,  0.96017635,  0.9737015 ,  1.8010067 ,\n",
              "         2.008275  ,  2.4410343 ,  3.1613834 ,  3.8971305 ,  5.29611   ,\n",
              "         5.9246874 ,  6.4779444 ,  6.5973835 ,  8.204122  ,  6.447889  ,\n",
              "         5.075472  ,  4.7636247 ,  5.7539783 ,  5.819839  ,  6.1794558 ,\n",
              "         5.281098  ,  6.586088  ,  4.526504  ,  2.0300264 ,  1.5770214 ,\n",
              "         2.9929173 ,  4.908699  ,  5.5963397 ,  4.3821754 ,  4.3041086 ,\n",
              "         4.8456764 ,  4.7837358 ,  5.6893177 ,  6.5538416 ,  7.3114924 ,\n",
              "         6.701833  ,  5.308627  ,  3.7191153 ,  2.0016475 ,  2.580374  ,\n",
              "         3.2658298 ,  4.22003   ,  3.6734734 ,  5.505035  ,  5.498219  ,\n",
              "         4.938804  ,  5.360749  ,  4.0675106 ,  2.32943   ,  2.0174294 ,\n",
              "         3.0753646 ,  3.9305258 ,  5.3624487 ,  6.828916  ,  6.4851403 ,\n",
              "         5.2505555 ,  3.458927  ,  4.7007446 ,  4.423235  ,  5.3951573 ,\n",
              "         6.0594406 ,  7.923823  , 10.380076  , 10.431929  , 10.866479  ,\n",
              "         6.936787  ,  5.4519625 ,  3.203488  ,  1.8926382 ,  3.7415206 ,\n",
              "         4.067745  ,  5.3248973 ,  6.3770013 , 14.351131  , 22.11181   ,\n",
              "        32.90398   , 37.278606  , 43.36983   , 46.106983  , 50.864887  ,\n",
              "        32.84222   , 19.85885   , 13.36232   ,  8.403054  ,  7.53688   ,\n",
              "        11.157688  , 10.869163  , 10.896703  ,  9.14865   ,  8.164526  ,\n",
              "         4.3820987 ,  5.6103034 ,  4.128712  ,  4.240194  ,  4.1891284 ,\n",
              "         5.8808503 ,  5.981259  ,  8.96881   ,  6.5932117 ,  6.6066823 ,\n",
              "         8.249845  ,  6.6431456 ,  2.7533848 ,  3.5326614 ,  4.5445538 ,\n",
              "         2.9677436 ,  6.8550982 ,  9.587522  , 10.526284  ,  4.7320867 ,\n",
              "         3.518731  ,  3.5717745 ,  3.1408966 ,  3.5810058 ,  3.4684513 ,\n",
              "         3.6505966 ,  3.135213  ,  4.5123687 ,  5.099839  ,  5.5325975 ,\n",
              "         5.6979027 ,  8.077984  ,  7.5714536 ,  8.66601   , 10.02049   ,\n",
              "        12.236729  , 12.2167    , 12.412744  , 10.055367  ,  8.237793  ,\n",
              "         6.7114058 ,  5.74033   ,  4.401954  ,  4.8579316 ,  4.5979133 ,\n",
              "         4.8553047 ,  5.4518366 ,  7.5594263 ,  7.7207947 ,  4.718868  ,\n",
              "         4.236177  ,  3.5799205 ,  3.8952954 ,  3.0029933 ,  3.259786  ,\n",
              "         2.5220075 ,  3.4099467 ,  6.305579  ,  6.622459  ,  6.1116753 ,\n",
              "         4.639951  ,  3.4395437 ,  4.0753765 ,  3.4928222 ,  6.0938907 ,\n",
              "         7.716669  ,  8.161915  ,  4.998672  ,  3.8208597 ,  2.5295393 ,\n",
              "         3.2269027 ,  2.6998768 ,  1.8631488 ,  2.7516067 ,  1.9990802 ,\n",
              "         2.1680522 ,  3.0430388 ,  3.2213721 ,  3.7126768 ,  2.4924893 ,\n",
              "         4.3297877 ,  2.6655848 ,  4.105843  ,  3.244565  ,  2.032069  ,\n",
              "         2.4046307 ,  3.2533498 ,  3.3303823 ,  2.6701608 ,  2.0065377 ,\n",
              "         1.853548  ,  3.0888622 ,  2.6423862 ,  3.8555806 ,  3.0471933 ,\n",
              "         3.1241376 ,  3.5529294 ,  0.8224035 ,  1.3491764 ,  1.6066916 ,\n",
              "         1.4743602 ,  1.5995429 ,  2.031424  ,  2.178136  ,  1.5435435 ,\n",
              "         2.1468787 ,  1.2122917 ,  2.1723392 ,  2.0073676 ,  1.9845155 ,\n",
              "         1.3773046 ,  1.734775  ,  2.062582  ,  1.578087  ,  1.9141259 ,\n",
              "         1.8967876 ,  2.3243935 ,  2.4992156 ,  3.2555308 ,  3.3912857 ,\n",
              "         5.8856854 ,  6.5674424 ,  7.9355755 ,  8.77228   , 10.422609  ,\n",
              "        12.40848   , 12.810157  ,  8.566629  ,  5.9020596 ,  4.1248136 ,\n",
              "         2.7081134 ,  3.3036542 ,  2.702202  ,  2.209929  ,  1.8248376 ,\n",
              "         1.8742416 ,  1.7927004 ,  1.2150124 ,  1.8555303 ,  2.4371238 ,\n",
              "         2.863619  ,  3.46133   ,  2.43012   ,  1.9037721 ,  2.1345286 ,\n",
              "         1.4289361 ,  1.2635899 ,  2.3242986 ,  3.1973574 ,  3.3695977 ,\n",
              "         2.9675663 ,  3.9519186 ,  4.2742143 ,  2.311961  ,  2.2417312 ,\n",
              "         1.4297252 ,  2.5361438 ,  1.621587  ,  2.5213945 ,  2.938625  ,\n",
              "         5.5593286 ,  7.510956  ,  9.345562  , 12.550383  , 14.196439  ,\n",
              "        11.480621  ,  8.977892  ,  4.1104054 ,  2.605925  ,  1.7856386 ,\n",
              "         2.2473698 ,  4.2108374 ,  4.118115  ,  4.386384  ,  4.7231245 ,\n",
              "         4.638545  ,  3.534962  ,  1.566915  ,  2.0232303 ,  2.550186  ,\n",
              "         3.4400237 ,  2.8888392 ,  3.5210893 ,  2.0965505 ,  1.3026985 ,\n",
              "         1.2051976 ,  0.96250075,  0.9003653 ,  1.5146585 ,  2.2307541 ,\n",
              "         3.4177608 ,  3.7376962 ,  4.1931987 ,  4.109859  ,  2.4645584 ,\n",
              "         2.4493961 ,  3.7161264 ,  4.2215905 ,  4.654796  ,  6.144258  ,\n",
              "         5.9058757 ,  4.5501666 ,  2.855002  ,  1.9061323 ,  1.3416659 ,\n",
              "         2.250812  ,  4.168651  ,  5.510586  ,  6.279818  ,  7.431091  ,\n",
              "         8.980787  ,  8.921283  , 10.161938  ,  6.626103  ,  4.4615874 ,\n",
              "         3.2925313 ,  3.2965932 ,  2.349666  ,  2.582525  ,  1.989958  ,\n",
              "         2.0579095 ,  3.4387383 ,  5.0858307 ,  5.2893248 ,  6.47556   ,\n",
              "         7.2651186 ,  7.8514323 ,  8.557296  ,  5.410862  ,  3.8171966 ,\n",
              "         4.4169607 ,  4.1565337 ,  4.079816  ,  4.4974403 ,  5.871025  ,\n",
              "         6.160463  ,  6.834659  ,  8.067198  ,  9.319104  ,  9.629472  ,\n",
              "         8.248084  ,  7.529285  ,  4.5340214 ,  2.8645885 ,  3.9230425 ,\n",
              "         4.3455553 ,  5.7610188 ,  6.2444334 ,  6.172801  ,  4.2626953 ,\n",
              "         4.9404054 ,  4.826143  ,  5.224874  ,  3.7902136 ,  2.6037683 ,\n",
              "         1.7949792 ,  3.3829246 ,  4.1426187 ,  4.2657723 ,  4.4967003 ,\n",
              "         3.872573  ,  2.296775  ,  3.6471379 ,  6.067409  ,  9.094264  ,\n",
              "        12.331222  , 14.932261  , 15.451815  , 16.412092  , 13.726473  ,\n",
              "         9.413205  ,  6.8124824 ,  4.7036433 ,  5.635465  ,  5.947903  ,\n",
              "         7.1823874 ,  8.409257  , 11.23315   , 12.83941   , 12.600669  ,\n",
              "        12.610663  , 12.05623   , 12.909183  , 12.785803  , 13.833454  ,\n",
              "        15.915522  , 15.037368  , 14.21998   , 14.313611  , 11.924677  ,\n",
              "         8.286548  ,  5.6319494 ,  4.917743  ,  7.7715316 , 11.121856  ,\n",
              "         7.2941303 ,  2.303061  ,  2.3897245 ,  7.2640367 ,  7.741163  ,\n",
              "         9.087431  , 10.97842   , 13.642796  , 15.079999  , 13.390249  ,\n",
              "         7.0642257 ,  5.579355  ,  4.7949314 ,  3.5762687 ,  5.550635  ,\n",
              "         6.9252806 , 10.8238535 , 11.002634  ,  7.5544634 ,  8.642548  ,\n",
              "        10.142743  , 13.782352  , 14.114143  , 13.753664  , 15.53483   ,\n",
              "        17.749094  , 14.908817  , 15.648792  , 11.90259   ,  9.669595  ,\n",
              "         8.754875  ,  6.4447308 ,  5.4409027 ,  5.998024  ,  7.7329144 ,\n",
              "         7.3912835 ,  7.331197  ,  5.813264  ,  6.1251683 ,  8.071835  ,\n",
              "        11.553843  , 16.487316  , 19.215132  , 15.42239   , 11.2201805 ,\n",
              "         7.8394814 ,  3.990405  ,  3.0141814 ,  5.249561  ,  5.8261447 ,\n",
              "         6.407989  ,  5.808648  ,  8.140945  ,  8.368278  , 10.963674  ,\n",
              "        13.101038  , 12.50408   , 11.101763  ,  7.82051   ,  7.112571  ,\n",
              "         4.097598  ,  2.7851713 ,  2.9440994 ,  2.2319267 ,  3.2417145 ,\n",
              "         4.943088  ,  7.836526  ,  7.561227  ,  8.39927   ,  9.90417   ,\n",
              "         8.671795  ,  5.749146  ,  4.5016527 ,  3.4409006 ,  5.5783224 ,\n",
              "         5.407203  ,  5.4194474 ,  4.8206534 ,  2.302632  ,  1.6116831 ,\n",
              "         2.0027637 ,  1.6039146 ,  1.424836  ,  1.8098474 ,  2.2622454 ,\n",
              "         3.0325978 ,  4.5074844 ,  5.2831845 ,  5.846154  ,  5.0181584 ,\n",
              "         3.1707633 ,  3.4165192 ,  4.219297  ,  7.8196445 , 12.325447  ,\n",
              "        14.905257  , 17.552267  , 16.718868  , 14.194693  , 12.61891   ,\n",
              "         9.217949  ,  5.149177  ,  4.8411756 ,  5.660056  ,  8.033832  ,\n",
              "         8.303094  ,  5.975204  ,  5.2132683 ,  4.7212634 ,  4.4866242 ,\n",
              "         2.532805  ,  3.1923015 ,  2.4429069 ,  3.3743098 ,  3.3412113 ,\n",
              "         4.888398  ,  6.298326  ,  8.398258  , 14.019731  , 17.659494  ],\n",
              "       dtype=float32),\n",
              " 'mse': array([3.52831969e+05, 4.61902000e+05, 6.01330000e+05, 7.19427875e+05,\n",
              "        8.60692438e+05, 1.02898031e+06, 1.14298812e+06, 9.16710438e+05,\n",
              "        5.05163781e+05, 1.17531672e+05, 8.56148750e+04, 8.86091719e+04,\n",
              "        7.43425391e+04, 1.12995578e+05, 4.35409922e+04, 4.89905312e+04,\n",
              "        5.13069180e+04, 5.89171250e+04, 8.26760547e+04, 5.21874961e+04,\n",
              "        1.88682988e+04, 2.39440664e+04, 1.24514277e+04, 3.10071348e+04,\n",
              "        4.10280820e+04, 9.00040703e+04, 1.48554578e+05, 2.09916266e+05,\n",
              "        2.38793219e+05, 1.94969359e+05, 1.95823000e+05, 1.93952484e+05,\n",
              "        1.64258969e+05, 7.82193594e+04, 1.22990938e+05, 6.21594180e+04,\n",
              "        1.24722100e+04, 3.07613730e+04, 2.26850195e+04, 5.00198711e+04,\n",
              "        7.19669385e+03, 2.65489727e+04, 1.11622393e+04, 7.01500342e+03,\n",
              "        3.15904727e+04, 2.50862832e+04, 5.10996367e+04, 8.95073906e+04,\n",
              "        1.80591422e+05, 2.84908562e+05, 3.48478281e+05, 3.79923562e+05,\n",
              "        3.43229281e+05, 4.58632406e+05, 2.97956344e+05, 2.85980656e+05,\n",
              "        2.85423000e+05, 3.80327250e+05, 4.11674906e+05, 4.01650219e+05,\n",
              "        2.55207000e+05, 3.73879094e+05, 1.72653578e+05, 3.65759492e+04,\n",
              "        2.50199512e+04, 9.15432031e+04, 1.98465609e+05, 2.53524219e+05,\n",
              "        1.77619391e+05, 1.96492828e+05, 2.11957500e+05, 2.39159859e+05,\n",
              "        3.68412562e+05, 5.35627938e+05, 5.50622062e+05, 4.22004312e+05,\n",
              "        2.61332906e+05, 1.74130078e+05, 6.00705703e+04, 8.35047656e+04,\n",
              "        1.59076891e+05, 2.27101344e+05, 2.04697375e+05, 3.64513719e+05,\n",
              "        3.70706656e+05, 3.13819656e+05, 3.29277188e+05, 1.95626203e+05,\n",
              "        7.97921328e+04, 5.07839336e+04, 1.21252102e+05, 1.74174672e+05,\n",
              "        3.59207156e+05, 5.10550281e+05, 4.76702531e+05, 2.95781562e+05,\n",
              "        1.43979234e+05, 2.55201125e+05, 2.84645562e+05, 3.95717344e+05,\n",
              "        4.63601156e+05, 6.47320875e+05, 9.61309500e+05, 9.64095625e+05,\n",
              "        9.38977375e+05, 4.53101406e+05, 3.09695250e+05, 1.27934555e+05,\n",
              "        3.82541055e+04, 1.34159094e+05, 1.46296297e+05, 2.48378141e+05,\n",
              "        3.09285188e+05, 1.68680825e+06, 3.14261050e+06, 5.42967200e+06,\n",
              "        6.00574000e+06, 7.05546150e+06, 7.10743950e+06, 7.55686000e+06,\n",
              "        3.33743850e+06, 1.39224712e+06, 8.71604812e+05, 3.26906812e+05,\n",
              "        3.54364188e+05, 5.95086625e+05, 6.21309062e+05, 7.18529438e+05,\n",
              "        4.35883094e+05, 3.70425188e+05, 1.27451195e+05, 1.81788469e+05,\n",
              "        9.06296484e+04, 1.00659508e+05, 9.25340547e+04, 2.27490547e+05,\n",
              "        2.13359922e+05, 4.20812656e+05, 2.87047531e+05, 2.83658344e+05,\n",
              "        3.95454500e+05, 2.82596406e+05, 6.67245859e+04, 8.79432734e+04,\n",
              "        2.03656641e+05, 6.66877891e+04, 2.82662906e+05, 5.39007625e+05,\n",
              "        6.21954812e+05, 1.39637094e+05, 8.60804609e+04, 8.76825703e+04,\n",
              "        6.88008047e+04, 9.74431328e+04, 9.78967656e+04, 1.03222766e+05,\n",
              "        7.80289844e+04, 1.28141055e+05, 1.65520141e+05, 2.66589781e+05,\n",
              "        2.51599531e+05, 7.06403938e+05, 6.45838312e+05, 9.15792125e+05,\n",
              "        1.12732075e+06, 1.46555025e+06, 1.36515738e+06, 1.23703612e+06,\n",
              "        8.91469312e+05, 7.35825562e+05, 6.52427312e+05, 4.66035844e+05,\n",
              "        2.86218969e+05, 2.89361938e+05, 2.45114953e+05, 2.47443297e+05,\n",
              "        3.13456781e+05, 6.90113812e+05, 6.22515562e+05, 3.27017094e+05,\n",
              "        2.14920109e+05, 1.79491672e+05, 1.97444922e+05, 1.35422531e+05,\n",
              "        1.17355039e+05, 7.65320703e+04, 1.61300625e+05, 3.68996594e+05,\n",
              "        4.13596844e+05, 3.92979469e+05, 2.32635547e+05, 1.72289469e+05,\n",
              "        1.68088797e+05, 1.52770922e+05, 4.68455438e+05, 7.28533188e+05,\n",
              "        7.39738438e+05, 3.35441500e+05, 2.24619797e+05, 1.15841477e+05,\n",
              "        1.61341391e+05, 8.80773203e+04, 5.32135430e+04, 8.41401484e+04,\n",
              "        5.75887852e+04, 8.01855234e+04, 1.28887609e+05, 1.31306719e+05,\n",
              "        1.42696172e+05, 6.86256953e+04, 1.71759578e+05, 9.29618125e+04,\n",
              "        1.81212344e+05, 1.23825211e+05, 5.27225898e+04, 6.82938125e+04,\n",
              "        1.34801125e+05, 1.28432688e+05, 8.22653516e+04, 5.08095625e+04,\n",
              "        5.01750078e+04, 9.02265391e+04, 7.45420547e+04, 1.51354703e+05,\n",
              "        1.03132734e+05, 1.12265898e+05, 1.44319828e+05, 8.09085449e+03,\n",
              "        2.29538184e+04, 2.83268164e+04, 2.55220254e+04, 3.34289258e+04,\n",
              "        4.83423320e+04, 5.54868398e+04, 3.55193477e+04, 5.59327070e+04,\n",
              "        1.66587656e+04, 5.20868555e+04, 4.52875820e+04, 4.80881133e+04,\n",
              "        2.11876934e+04, 3.58738555e+04, 4.79992500e+04, 3.16028809e+04,\n",
              "        4.38887578e+04, 4.65267852e+04, 6.11701328e+04, 7.24411562e+04,\n",
              "        1.45712734e+05, 1.76893078e+05, 8.25616875e+05, 9.52779500e+05,\n",
              "        1.35795862e+06, 1.45807862e+06, 1.83880038e+06, 2.30245725e+06,\n",
              "        2.18184925e+06, 1.05534888e+06, 5.13783562e+05, 3.10826594e+05,\n",
              "        1.87472078e+05, 1.79422250e+05, 1.29505195e+05, 9.87952344e+04,\n",
              "        5.18177773e+04, 6.70949297e+04, 5.47354727e+04, 2.62558262e+04,\n",
              "        8.69853359e+04, 1.15184625e+05, 2.02787703e+05, 2.11917547e+05,\n",
              "        1.06671930e+05, 1.21959898e+05, 8.32503750e+04, 5.44322852e+04,\n",
              "        3.14559102e+04, 1.05620211e+05, 1.96268406e+05, 1.73077172e+05,\n",
              "        1.83864797e+05, 2.37309234e+05, 2.87158469e+05, 8.84984609e+04,\n",
              "        1.03464242e+05, 4.57918984e+04, 1.40549172e+05, 6.77823906e+04,\n",
              "        1.52225750e+05, 2.08777859e+05, 5.86112625e+05, 9.26904000e+05,\n",
              "        1.13710588e+06, 1.90595200e+06, 2.21690400e+06, 1.52322888e+06,\n",
              "        9.54518062e+05, 2.31914125e+05, 1.22727188e+05, 4.45467227e+04,\n",
              "        8.42842422e+04, 2.89079188e+05, 3.14766000e+05, 3.18002344e+05,\n",
              "        4.14248438e+05, 3.02118438e+05, 1.71542500e+05, 4.44073320e+04,\n",
              "        8.00784297e+04, 1.02898211e+05, 1.82228547e+05, 1.58810359e+05,\n",
              "        1.87047094e+05, 1.29113867e+05, 4.18731445e+04, 2.26725059e+04,\n",
              "        1.61951348e+04, 1.11505693e+04, 4.03092422e+04, 8.39952344e+04,\n",
              "        1.68309969e+05, 2.32768391e+05, 2.78471094e+05, 2.52111984e+05,\n",
              "        1.11652352e+05, 1.05091539e+05, 2.24298766e+05, 3.05009406e+05,\n",
              "        4.05766094e+05, 5.81411688e+05, 5.06416938e+05, 2.92908188e+05,\n",
              "        1.16601164e+05, 7.07597344e+04, 5.52781680e+04, 1.02313508e+05,\n",
              "        5.41209375e+05, 8.25209562e+05, 1.11289775e+06, 1.42475025e+06,\n",
              "        1.70230025e+06, 1.48679662e+06, 1.88496000e+06, 8.32537000e+05,\n",
              "        4.87372781e+05, 3.15196844e+05, 3.23244594e+05, 2.11206531e+05,\n",
              "        1.57431047e+05, 9.99230391e+04, 9.41334609e+04, 6.97900875e+05,\n",
              "        1.09426012e+06, 1.16569650e+06, 1.41076025e+06, 1.72942600e+06,\n",
              "        1.67304738e+06, 1.92946112e+06, 8.78930688e+05, 6.07098562e+05,\n",
              "        6.57878688e+05, 5.49760812e+05, 7.25908000e+05, 1.00311544e+06,\n",
              "        1.50666225e+06, 1.70438225e+06, 2.19163250e+06, 2.89513950e+06,\n",
              "        3.46246625e+06, 3.48191025e+06, 2.65441825e+06, 2.03566875e+06,\n",
              "        8.74153062e+05, 3.90547219e+05, 8.72949125e+05, 9.23257188e+05,\n",
              "        1.33915812e+06, 1.71838138e+06, 2.03488262e+06, 6.79287875e+05,\n",
              "        1.12868038e+06, 1.07149788e+06, 1.07655438e+06, 5.54345625e+05,\n",
              "        3.09704969e+05, 1.95426406e+05, 5.57317312e+05, 7.18353188e+05,\n",
              "        7.89707062e+05, 9.22416875e+05, 7.87161375e+05, 3.28760094e+05,\n",
              "        1.03848388e+06, 3.64798475e+06, 7.17772150e+06, 1.18479360e+07,\n",
              "        1.51666010e+07, 1.45767430e+07, 1.49124270e+07, 1.04089630e+07,\n",
              "        5.18939600e+06, 3.11026525e+06, 3.05570450e+06, 4.05562925e+06,\n",
              "        4.13413025e+06, 4.93527250e+06, 7.74965200e+06, 1.20593060e+07,\n",
              "        1.47426790e+07, 1.68913460e+07, 1.97963680e+07, 1.80467860e+07,\n",
              "        2.31534940e+07, 2.70985980e+07, 3.62159840e+07, 4.70822120e+07,\n",
              "        4.69489680e+07, 4.07978000e+07, 3.70735280e+07, 2.64346840e+07,\n",
              "        1.45127180e+07, 5.90260250e+06, 4.88100700e+06, 1.12642620e+07,\n",
              "        1.83692580e+07, 8.23669200e+06, 9.11586438e+05, 8.81709125e+05,\n",
              "        1.16004800e+07, 1.29606560e+07, 1.25827690e+07, 1.82609060e+07,\n",
              "        2.25635540e+07, 2.65363460e+07, 1.85995060e+07, 7.56432000e+06,\n",
              "        4.21307800e+06, 3.26679375e+06, 2.72356875e+06, 4.12466125e+06,\n",
              "        8.39203700e+06, 1.77118620e+07, 1.82690260e+07, 1.10884180e+07,\n",
              "        1.64896930e+07, 1.99699140e+07, 4.12915000e+07, 5.23155000e+07,\n",
              "        5.09718680e+07, 6.33714200e+07, 7.90476000e+07, 5.74811960e+07,\n",
              "        5.70095400e+07, 3.46435440e+07, 2.39363480e+07, 2.32072680e+07,\n",
              "        1.43067610e+07, 1.90245760e+07, 1.66700500e+07, 2.62977140e+07,\n",
              "        2.37890100e+07, 2.02632260e+07, 1.23218310e+07, 1.10536570e+07,\n",
              "        2.01266140e+07, 3.74258640e+07, 6.74601680e+07, 8.66496720e+07,\n",
              "        5.71722360e+07, 3.48849320e+07, 1.85996080e+07, 5.08877650e+06,\n",
              "        3.04385600e+06, 7.93279850e+06, 1.09790970e+07, 1.55239180e+07,\n",
              "        2.33822560e+07, 3.44542080e+07, 3.61446040e+07, 5.32363440e+07,\n",
              "        6.73638000e+07, 5.85361280e+07, 4.40583560e+07, 2.56475800e+07,\n",
              "        2.07142080e+07, 6.57015600e+06, 3.25509775e+06, 4.34162000e+06,\n",
              "        3.52407475e+06, 4.65968050e+06, 1.14399690e+07, 2.25317460e+07,\n",
              "        2.14498300e+07, 2.60094560e+07, 3.40335560e+07, 2.86650920e+07,\n",
              "        1.52188590e+07, 9.40856900e+06, 7.81579050e+06, 1.17189950e+07,\n",
              "        1.20802320e+07, 1.08067870e+07, 8.82515400e+06, 2.46571425e+06,\n",
              "        1.40307400e+06, 2.19952775e+06, 1.73300075e+06, 1.14836688e+06,\n",
              "        1.63620575e+06, 2.97262625e+06, 5.35946300e+06, 1.20349100e+07,\n",
              "        1.69060180e+07, 1.69567960e+07, 1.16025950e+07, 5.14343150e+06,\n",
              "        5.65394550e+06, 9.68507700e+06, 2.44294220e+07, 5.56763240e+07,\n",
              "        7.47107600e+07, 9.35722480e+07, 8.13674640e+07, 6.12307280e+07,\n",
              "        4.67619640e+07, 2.87975520e+07, 1.05731340e+07, 1.07584180e+07,\n",
              "        1.36603620e+07, 2.45664640e+07, 2.65040040e+07, 1.37884590e+07,\n",
              "        1.17793510e+07, 9.21680600e+06, 7.93895050e+06, 4.51261850e+06,\n",
              "        4.87087600e+06, 2.30474350e+06, 4.10437800e+06, 6.26653300e+06,\n",
              "        1.23904070e+07, 1.81336940e+07, 2.83727540e+07, 5.75580520e+07,\n",
              "        8.75165680e+07], dtype=float32),\n",
              " 'smape': 6.130661}"
            ]
          },
          "metadata": {
            "tags": []
          },
          "execution_count": 57
        }
      ]
    },
    {
      "cell_type": "markdown",
      "metadata": {
        "id": "P_DO0Ygwk24X"
      },
      "source": [
        "Let's adjust the `evaluate_preds()` to work with multiple shapes."
      ]
    },
    {
      "cell_type": "code",
      "metadata": {
        "id": "ERkl26UFgSbz"
      },
      "source": [
        "def evaluate_preds(y_true, y_pred):\n",
        "  # Make sure float32 (for metric calculations)\n",
        "  y_true = tf.cast(y_true, dtype=tf.float32)\n",
        "  y_pred = tf.cast(y_pred, dtype=tf.float32)\n",
        "\n",
        "  # Calculate various metrics\n",
        "  mae = tf.keras.metrics.mean_absolute_error(y_true, y_pred)\n",
        "  mse = tf.keras.metrics.mean_squared_error(y_true, y_pred)\n",
        "  mape = tf.keras.metrics.mean_absolute_percentage_error(y_true, y_pred)\n",
        "  smape = scaled_mape(y_true, y_pred)\n",
        "\n",
        "  # Account for different sized metrics (for longer horizons, reduce to single number)\n",
        "  if mae.ndim > 0: # if mae isn't already a scalar, reduce it to one by aggregating tensors to mean\n",
        "    mae = tf.reduce_mean(mae)\n",
        "    mse = tf.reduce_mean(mse)\n",
        "    mape = tf.reduce_mean(mape)\n",
        "    smape = tf.reduce_mean(smape)\n",
        "\n",
        "  return {\"mae\": mae.numpy(),\n",
        "          \"mse\": mse.numpy(),\n",
        "          \"mape\": mape.numpy(),\n",
        "          \"smape\": smape.numpy()}"
      ],
      "execution_count": 58,
      "outputs": []
    },
    {
      "cell_type": "code",
      "metadata": {
        "colab": {
          "base_uri": "https://localhost:8080/"
        },
        "id": "luzVNzaVe3ku",
        "outputId": "1c04a099-4884-40ba-fcd7-b101c2b6b56d"
      },
      "source": [
        "model_2_results = evaluate_preds(y_true=test_labels,\n",
        "                                 y_pred=model_2_preds)\n",
        "model_2_results"
      ],
      "execution_count": 59,
      "outputs": [
        {
          "output_type": "execute_result",
          "data": {
            "text/plain": [
              "{'mae': 1386.2922, 'mape': 6.1623425, 'mse': 6415591.0, 'smape': 6.130661}"
            ]
          },
          "metadata": {
            "tags": []
          },
          "execution_count": 59
        }
      ]
    },
    {
      "cell_type": "code",
      "metadata": {
        "colab": {
          "base_uri": "https://localhost:8080/",
          "height": 442
        },
        "id": "jHh_qtXflx7Z",
        "outputId": "ccaac561-ff8b-489f-ec3e-d73b4286a977"
      },
      "source": [
        "offset = 300\n",
        "plt.figure(figsize=(10, 7))\n",
        "\n",
        "# Account for the test_window offset\n",
        "plot_time_series(timesteps=X_test[-len(test_windows):], values=test_labels[:, 0], start=offset, label=\"test_data\")\n",
        "plot_time_series(timesteps=X_test[-len(test_windows):], values=model_2_preds, start=offset, label=\"model_2_preds\") # this will buckle (too many shapes)"
      ],
      "execution_count": 60,
      "outputs": [
        {
          "output_type": "display_data",
          "data": {
            "image/png": "[encoded data removed]",
            "text/plain": [
              "<Figure size 720x504 with 1 Axes>"
            ]
          },
          "metadata": {
            "tags": [],
            "needs_background": "light"
          }
        }
      ]
    },
    {
      "cell_type": "code",
      "metadata": {
        "colab": {
          "base_uri": "https://localhost:8080/",
          "height": 442
        },
        "id": "mP_xjebjl51L",
        "outputId": "42becb19-249c-4e8d-cf4a-7695d0a405a3"
      },
      "source": [
        "plt.figure(figsize=(10, 7))\n",
        "\n",
        "# Account for the test_window offset\n",
        "plot_time_series(timesteps=X_test[-len(test_windows):], values=test_labels[:, 0], start=offset, label=\"test_data\")\n",
        "# Account for different shapes, but this still predicts an average of 7 days ahead (horizon=7)\n",
        "plot_time_series(timesteps=X_test[-len(test_windows):], values=tf.reduce_mean(model_2_preds, axis=1), start=offset, label=\"model_2_preds\") "
      ],
      "execution_count": 61,
      "outputs": [
        {
          "output_type": "display_data",
          "data": {
            "image/png": "[encoded data removed]",
            "text/plain": [
              "<Figure size 720x504 with 1 Axes>"
            ]
          },
          "metadata": {
            "tags": [],
            "needs_background": "light"
          }
        }
      ]
    },
    {
      "cell_type": "code",
      "metadata": {
        "colab": {
          "base_uri": "https://localhost:8080/",
          "height": 442
        },
        "id": "XBGbGaaemc7P",
        "outputId": "980d510e-4d19-4793-9c8d-075b49fe589a"
      },
      "source": [
        "plt.figure(figsize=(10, 7))\n",
        "\n",
        "# Account for the test_window offset\n",
        "plot_time_series(timesteps=X_test[-len(test_windows):], values=test_labels[:, 0], start=offset, label=\"test_data\")\n",
        "# Account for different shapes, but this still predicts an average of 7 days ahead (horizon=7)\n",
        "plot_time_series(timesteps=X_test[-len(test_windows):], values=model_2_preds[:, 0], start=offset, label=\"model_2_preds\")"
      ],
      "execution_count": 62,
      "outputs": [
        {
          "output_type": "display_data",
          "data": {
            "image/png": "[encoded data removed]",
            "text/plain": [
              "<Figure size 720x504 with 1 Axes>"
            ]
          },
          "metadata": {
            "tags": [],
            "needs_background": "light"
          }
        }
      ]
    },
    {
      "cell_type": "markdown",
      "metadata": {
        "id": "Sls7mUaq9lMl"
      },
      "source": [
        "### Model 3: Dense (1 horizon, 30 window)\n",
        "\n",
        "* -> How does a larger window effect a smaller horizon?\n",
        "* -> Model 1 looked at predicting horizon=1 with window=10\n",
        "* -> Model 2: horizon=7, window=30\n",
        "* -> Model 3: horizon=1, window=30\n",
        "* -> Compare them all..."
      ]
    },
    {
      "cell_type": "code",
      "metadata": {
        "colab": {
          "base_uri": "https://localhost:8080/"
        },
        "id": "8PtmayTM98Mb",
        "outputId": "dc2cecfa-878c-40a2-8196-b2785a37dfa2"
      },
      "source": [
        "HORIZON = 1\n",
        "WINDOW_SIZE = 30\n",
        "\n",
        "full_windows, full_labels = make_windows(prices, window_size=WINDOW_SIZE, horizon=HORIZON)\n",
        "len(full_windows), len(full_labels)"
      ],
      "execution_count": 81,
      "outputs": [
        {
          "output_type": "execute_result",
          "data": {
            "text/plain": [
              "(2730, 2730)"
            ]
          },
          "metadata": {
            "tags": []
          },
          "execution_count": 81
        }
      ]
    },
    {
      "cell_type": "code",
      "metadata": {
        "colab": {
          "base_uri": "https://localhost:8080/"
        },
        "id": "E8xgoKunZ__e",
        "outputId": "1137252b-c623-40d7-8932-0fbba2855e92"
      },
      "source": [
        "train_windows, test_windows, train_labels, test_labels = make_train_test_splits(windows=full_windows, labels=full_labels, test_split=0.2)\n",
        "len(train_windows), len(test_windows), len(train_labels), len(test_labels)"
      ],
      "execution_count": 82,
      "outputs": [
        {
          "output_type": "execute_result",
          "data": {
            "text/plain": [
              "(2184, 546, 2184, 546)"
            ]
          },
          "metadata": {
            "tags": []
          },
          "execution_count": 82
        }
      ]
    },
    {
      "cell_type": "code",
      "metadata": {
        "colab": {
          "base_uri": "https://localhost:8080/"
        },
        "id": "4sCwHE0Rq-00",
        "outputId": "89a2fbef-bed2-4355-e94c-de769d004aae"
      },
      "source": [
        "test_labels[-1], y_test[-1]"
      ],
      "execution_count": 91,
      "outputs": [
        {
          "output_type": "execute_result",
          "data": {
            "text/plain": [
              "(array([43144.47129086]), 43144.471290860296)"
            ]
          },
          "metadata": {
            "tags": []
          },
          "execution_count": 91
        }
      ]
    },
    {
      "cell_type": "code",
      "metadata": {
        "colab": {
          "base_uri": "https://localhost:8080/"
        },
        "id": "hxHh7xS2-CoH",
        "outputId": "ac19c1eb-5203-4201-eb09-246194facf88"
      },
      "source": [
        "# Build model\n",
        "model_3 = tf.keras.Sequential([\n",
        "  layers.Dense(128, activation=\"relu\"),\n",
        "  layers.Dense(HORIZON)\n",
        "], name=\"model_3_dense\")\n",
        "\n",
        "model_3.compile(loss=\"mae\",\n",
        "                optimizer=tf.keras.optimizers.Adam())\n",
        "\n",
        "model_3.fit(train_windows,\n",
        "            train_labels,\n",
        "            epochs=10,\n",
        "            validation_data=(test_windows, test_labels),\n",
        "            callbacks=[create_model_checkpoint(model_name=model_3.name)])"
      ],
      "execution_count": 83,
      "outputs": [
        {
          "output_type": "stream",
          "text": [
            "Epoch 1/10\n",
            "69/69 [==============================] - 1s 4ms/step - loss: 1677.1416 - val_loss: 1539.7159\n",
            "INFO:tensorflow:Assets written to: model_experiments/model_3_dense/assets\n",
            "Epoch 2/10\n",
            "69/69 [==============================] - 0s 2ms/step - loss: 292.0321 - val_loss: 1380.0460\n",
            "INFO:tensorflow:Assets written to: model_experiments/model_3_dense/assets\n",
            "Epoch 3/10\n",
            "69/69 [==============================] - 0s 2ms/step - loss: 251.1237 - val_loss: 1065.5167\n",
            "INFO:tensorflow:Assets written to: model_experiments/model_3_dense/assets\n",
            "Epoch 4/10\n",
            "69/69 [==============================] - 0s 2ms/step - loss: 187.2203 - val_loss: 1640.3303\n",
            "Epoch 5/10\n",
            "69/69 [==============================] - 0s 2ms/step - loss: 202.4061 - val_loss: 994.4131\n",
            "INFO:tensorflow:Assets written to: model_experiments/model_3_dense/assets\n",
            "Epoch 6/10\n",
            "69/69 [==============================] - 0s 2ms/step - loss: 167.5045 - val_loss: 827.2507\n",
            "INFO:tensorflow:Assets written to: model_experiments/model_3_dense/assets\n",
            "Epoch 7/10\n",
            "69/69 [==============================] - 0s 2ms/step - loss: 160.3385 - val_loss: 1132.0668\n",
            "Epoch 8/10\n",
            "69/69 [==============================] - 0s 2ms/step - loss: 184.4087 - val_loss: 810.8170\n",
            "INFO:tensorflow:Assets written to: model_experiments/model_3_dense/assets\n",
            "Epoch 9/10\n",
            "69/69 [==============================] - 0s 2ms/step - loss: 137.9122 - val_loss: 1365.6769\n",
            "Epoch 10/10\n",
            "69/69 [==============================] - 0s 2ms/step - loss: 148.5277 - val_loss: 748.5568\n",
            "INFO:tensorflow:Assets written to: model_experiments/model_3_dense/assets\n"
          ],
          "name": "stdout"
        },
        {
          "output_type": "execute_result",
          "data": {
            "text/plain": [
              "<tensorflow.python.keras.callbacks.History at 0x7f9d5d36e0d0>"
            ]
          },
          "metadata": {
            "tags": []
          },
          "execution_count": 83
        }
      ]
    },
    {
      "cell_type": "code",
      "metadata": {
        "colab": {
          "base_uri": "https://localhost:8080/"
        },
        "id": "Pd-8pbfh-DDI",
        "outputId": "8ab0af6b-f7c7-4f33-d43a-48527d1b8aea"
      },
      "source": [
        "model_3.evaluate(test_windows, test_labels)"
      ],
      "execution_count": 84,
      "outputs": [
        {
          "output_type": "stream",
          "text": [
            "18/18 [==============================] - 0s 1ms/step - loss: 748.5568\n"
          ],
          "name": "stdout"
        },
        {
          "output_type": "execute_result",
          "data": {
            "text/plain": [
              "748.5567626953125"
            ]
          },
          "metadata": {
            "tags": []
          },
          "execution_count": 84
        }
      ]
    },
    {
      "cell_type": "code",
      "metadata": {
        "id": "uKBNVovRpvhd"
      },
      "source": [
        "model_3_preds = make_forecast(model_3,\n",
        "                              input_data=test_windows)"
      ],
      "execution_count": 85,
      "outputs": []
    },
    {
      "cell_type": "code",
      "metadata": {
        "colab": {
          "base_uri": "https://localhost:8080/"
        },
        "id": "kU8TgGv3frKW",
        "outputId": "68fa7f73-192f-46a0-f261-d12772bb9677"
      },
      "source": [
        "len(model_3_preds)"
      ],
      "execution_count": 86,
      "outputs": [
        {
          "output_type": "execute_result",
          "data": {
            "text/plain": [
              "546"
            ]
          },
          "metadata": {
            "tags": []
          },
          "execution_count": 86
        }
      ]
    },
    {
      "cell_type": "code",
      "metadata": {
        "colab": {
          "base_uri": "https://localhost:8080/"
        },
        "id": "P9VQqenW-5to",
        "outputId": "d0289b91-cd5f-4b33-c68a-44b05458e06b"
      },
      "source": [
        "model_3_results = evaluate_preds(y_true=tf.squeeze(test_labels),\n",
        "                                 y_pred=model_3_preds)\n",
        "model_3_results"
      ],
      "execution_count": 95,
      "outputs": [
        {
          "output_type": "execute_result",
          "data": {
            "text/plain": [
              "{'mae': 748.55676, 'mape': 3.2615733, 'mse': 1893270.5, 'smape': 3.2330148}"
            ]
          },
          "metadata": {
            "tags": []
          },
          "execution_count": 95
        }
      ]
    },
    {
      "cell_type": "code",
      "metadata": {
        "colab": {
          "base_uri": "https://localhost:8080/",
          "height": 442
        },
        "id": "gBdg1NcLs3gW",
        "outputId": "94e9918f-7e1d-497b-ef50-fd1242c69c81"
      },
      "source": [
        "plt.figure(figsize=(10, 7))\n",
        "offset = 300\n",
        "plot_time_series(timesteps=X_test[-len(test_windows):], values=test_labels[:, 0], start=offset, label=\"test_data\")\n",
        "plot_time_series(timesteps=X_test[-len(test_windows):], values=model_3_preds, start=offset, label=\"model_3_preds\")"
      ],
      "execution_count": 94,
      "outputs": [
        {
          "output_type": "display_data",
          "data": {
            "image/png": "[encoded data removed]",
            "text/plain": [
              "<Figure size 720x504 with 1 Axes>"
            ]
          },
          "metadata": {
            "tags": [],
            "needs_background": "light"
          }
        }
      ]
    },
    {
      "cell_type": "code",
      "metadata": {
        "colab": {
          "base_uri": "https://localhost:8080/"
        },
        "id": "t5FHjtgvAueF",
        "outputId": "a7abcfe3-d2b5-48e0-9e7b-d99aa38a30aa"
      },
      "source": [
        "naive_results, model_1_results, model_2_results, model_3_results"
      ],
      "execution_count": 96,
      "outputs": [
        {
          "output_type": "execute_result",
          "data": {
            "text/plain": [
              "({'mae': 567.9802, 'mape': 2.516525, 'mse': 1147547.0, 'smape': 2.5180573},\n",
              " {'mae': 717.57965, 'mape': 3.3286731, 'mse': 1756533.4, 'smape': 3.2727804},\n",
              " {'mae': 1386.2922, 'mape': 6.1623425, 'mse': 6415591.0, 'smape': 6.130661},\n",
              " {'mae': 748.55676, 'mape': 3.2615733, 'mse': 1893270.5, 'smape': 3.2330148})"
            ]
          },
          "metadata": {
            "tags": []
          },
          "execution_count": 96
        }
      ]
    },
    {
      "cell_type": "markdown",
      "metadata": {
        "id": "CxcL0gi-rWC5"
      },
      "source": [
        "## TODO: Model X Conv1D"
      ]
    },
    {
      "cell_type": "code",
      "metadata": {
        "id": "2_t9hXvXrZPD"
      },
      "source": [
        "HORIZON = 1\n",
        "WINDOW_SIZE = 7"
      ],
      "execution_count": 192,
      "outputs": []
    },
    {
      "cell_type": "code",
      "metadata": {
        "colab": {
          "base_uri": "https://localhost:8080/"
        },
        "id": "CRCy-vXzsEGL",
        "outputId": "0d9572f0-2bcb-4f60-c967-63eec3565a7a"
      },
      "source": [
        "full_windows, full_labels = make_windows(prices, window_size=WINDOW_SIZE, horizon=HORIZON)\n",
        "len(full_windows), len(full_labels)"
      ],
      "execution_count": 193,
      "outputs": [
        {
          "output_type": "execute_result",
          "data": {
            "text/plain": [
              "(2779, 2779)"
            ]
          },
          "metadata": {
            "tags": []
          },
          "execution_count": 193
        }
      ]
    },
    {
      "cell_type": "code",
      "metadata": {
        "colab": {
          "base_uri": "https://localhost:8080/"
        },
        "id": "ZtsLeB3rsED2",
        "outputId": "5fe0b855-108d-4d6d-be4f-4bb54555b98a"
      },
      "source": [
        "# Create train/test splits\n",
        "train_windows, test_windows, train_labels, test_labels = make_train_test_splits(full_windows, full_labels)\n",
        "len(train_windows), len(test_windows), len(train_labels), len(test_labels)"
      ],
      "execution_count": 194,
      "outputs": [
        {
          "output_type": "execute_result",
          "data": {
            "text/plain": [
              "(2223, 556, 2223, 556)"
            ]
          },
          "metadata": {
            "tags": []
          },
          "execution_count": 194
        }
      ]
    },
    {
      "cell_type": "code",
      "metadata": {
        "colab": {
          "base_uri": "https://localhost:8080/"
        },
        "id": "62oSNy3VvZpv",
        "outputId": "d2004bd6-cfd4-402f-b11e-01471970da04"
      },
      "source": [
        "# Before we pass our data to the Conv1D layer, we have to reshape it in order to make sure it works\n",
        "x = tf.constant([1, 2, 3])\n",
        "expand_dims_layer = layers.Lambda(lambda x: tf.expand_dims(x, axis=-1))\n",
        "x.shape, expand_dims_layer(x).shape, expand_dims_layer(x)"
      ],
      "execution_count": 195,
      "outputs": [
        {
          "output_type": "execute_result",
          "data": {
            "text/plain": [
              "(TensorShape([3]),\n",
              " TensorShape([3, 1]),\n",
              " <tf.Tensor: shape=(3, 1), dtype=int32, numpy=\n",
              " array([[1],\n",
              "        [2],\n",
              "        [3]], dtype=int32)>)"
            ]
          },
          "metadata": {
            "tags": []
          },
          "execution_count": 195
        }
      ]
    },
    {
      "cell_type": "code",
      "metadata": {
        "colab": {
          "base_uri": "https://localhost:8080/"
        },
        "id": "jODevMWGsEBI",
        "outputId": "671062d1-567c-448c-e81c-17863b295ee3"
      },
      "source": [
        "# Create model\n",
        "model_4 = tf.keras.Sequential([\n",
        "  # Without this layer, the model will error\n",
        "  layers.Lambda(lambda x: tf.expand_dims(x, axis=1)), # resize the inputs to adjust for window size / Conv1D 3D input requirements\n",
        "  layers.Conv1D(filters=128, kernel_size=3, padding=\"causal\", activation=\"relu\"),\n",
        "  layers.Dense(HORIZON)\n",
        "], name=\"model_4_conv1D\")\n",
        "\n",
        "# Compile model\n",
        "model_4.compile(loss=\"mae\",\n",
        "                optimizer=tf.keras.optimizers.Adam())\n",
        "\n",
        "# Fit model\n",
        "model_4.fit(train_windows,\n",
        "            train_labels, \n",
        "            epochs=10,\n",
        "            validation_data=(test_windows, test_labels),\n",
        "            callbacks=[create_model_checkpoint(model_name=model_4.name)])"
      ],
      "execution_count": 196,
      "outputs": [
        {
          "output_type": "stream",
          "text": [
            "Epoch 1/10\n",
            "70/70 [==============================] - 1s 4ms/step - loss: 1762.3437 - val_loss: 1141.6467\n",
            "INFO:tensorflow:Assets written to: model_experiments/model_4_conv1D/assets\n"
          ],
          "name": "stdout"
        },
        {
          "output_type": "stream",
          "text": [
            "INFO:tensorflow:Assets written to: model_experiments/model_4_conv1D/assets\n"
          ],
          "name": "stderr"
        },
        {
          "output_type": "stream",
          "text": [
            "Epoch 2/10\n",
            "70/70 [==============================] - 0s 2ms/step - loss: 164.2196 - val_loss: 1014.2195\n",
            "INFO:tensorflow:Assets written to: model_experiments/model_4_conv1D/assets\n"
          ],
          "name": "stdout"
        },
        {
          "output_type": "stream",
          "text": [
            "INFO:tensorflow:Assets written to: model_experiments/model_4_conv1D/assets\n"
          ],
          "name": "stderr"
        },
        {
          "output_type": "stream",
          "text": [
            "Epoch 3/10\n",
            "70/70 [==============================] - 0s 2ms/step - loss: 168.6736 - val_loss: 1094.0419\n",
            "Epoch 4/10\n",
            "70/70 [==============================] - 0s 2ms/step - loss: 162.4073 - val_loss: 854.2083\n",
            "INFO:tensorflow:Assets written to: model_experiments/model_4_conv1D/assets\n"
          ],
          "name": "stdout"
        },
        {
          "output_type": "stream",
          "text": [
            "INFO:tensorflow:Assets written to: model_experiments/model_4_conv1D/assets\n"
          ],
          "name": "stderr"
        },
        {
          "output_type": "stream",
          "text": [
            "Epoch 5/10\n",
            "70/70 [==============================] - 0s 2ms/step - loss: 144.7439 - val_loss: 909.7705\n",
            "Epoch 6/10\n",
            "70/70 [==============================] - 0s 2ms/step - loss: 153.8093 - val_loss: 804.6845\n",
            "INFO:tensorflow:Assets written to: model_experiments/model_4_conv1D/assets\n"
          ],
          "name": "stdout"
        },
        {
          "output_type": "stream",
          "text": [
            "INFO:tensorflow:Assets written to: model_experiments/model_4_conv1D/assets\n"
          ],
          "name": "stderr"
        },
        {
          "output_type": "stream",
          "text": [
            "Epoch 7/10\n",
            "70/70 [==============================] - 0s 2ms/step - loss: 138.8598 - val_loss: 722.7664\n",
            "INFO:tensorflow:Assets written to: model_experiments/model_4_conv1D/assets\n"
          ],
          "name": "stdout"
        },
        {
          "output_type": "stream",
          "text": [
            "INFO:tensorflow:Assets written to: model_experiments/model_4_conv1D/assets\n"
          ],
          "name": "stderr"
        },
        {
          "output_type": "stream",
          "text": [
            "Epoch 8/10\n",
            "70/70 [==============================] - 0s 2ms/step - loss: 133.1034 - val_loss: 816.3023\n",
            "Epoch 9/10\n",
            "70/70 [==============================] - 0s 2ms/step - loss: 137.7206 - val_loss: 676.4740\n",
            "INFO:tensorflow:Assets written to: model_experiments/model_4_conv1D/assets\n"
          ],
          "name": "stdout"
        },
        {
          "output_type": "stream",
          "text": [
            "INFO:tensorflow:Assets written to: model_experiments/model_4_conv1D/assets\n"
          ],
          "name": "stderr"
        },
        {
          "output_type": "stream",
          "text": [
            "Epoch 10/10\n",
            "70/70 [==============================] - 0s 2ms/step - loss: 120.6654 - val_loss: 751.0491\n"
          ],
          "name": "stdout"
        },
        {
          "output_type": "execute_result",
          "data": {
            "text/plain": [
              "<tensorflow.python.keras.callbacks.History at 0x7f9d535293d0>"
            ]
          },
          "metadata": {
            "tags": []
          },
          "execution_count": 196
        }
      ]
    },
    {
      "cell_type": "code",
      "metadata": {
        "colab": {
          "base_uri": "https://localhost:8080/"
        },
        "id": "2FcGUALG4RxJ",
        "outputId": "da1d49bd-af0d-45a4-d2bb-11deca731cd8"
      },
      "source": [
        "model_4.summary()"
      ],
      "execution_count": 197,
      "outputs": [
        {
          "output_type": "stream",
          "text": [
            "Model: \"model_4_conv1D\"\n",
            "_________________________________________________________________\n",
            "Layer (type)                 Output Shape              Param #   \n",
            "=================================================================\n",
            "lambda_36 (Lambda)           (None, 1, 7)              0         \n",
            "_________________________________________________________________\n",
            "conv1d_13 (Conv1D)           (None, 1, 128)            2816      \n",
            "_________________________________________________________________\n",
            "dense_37 (Dense)             (None, 1, 1)              129       \n",
            "=================================================================\n",
            "Total params: 2,945\n",
            "Trainable params: 2,945\n",
            "Non-trainable params: 0\n",
            "_________________________________________________________________\n"
          ],
          "name": "stdout"
        }
      ]
    },
    {
      "cell_type": "code",
      "metadata": {
        "colab": {
          "base_uri": "https://localhost:8080/"
        },
        "id": "KXEL9FuhsD-3",
        "outputId": "a7f237c1-9857-444d-c76e-429557a92c07"
      },
      "source": [
        "model_4 = tf.keras.models.load_model(\"model_experiments/model_4_conv1D\")\n",
        "model_4.evaluate(test_windows, test_labels)"
      ],
      "execution_count": 198,
      "outputs": [
        {
          "output_type": "stream",
          "text": [
            "18/18 [==============================] - 0s 2ms/step - loss: 676.4740\n"
          ],
          "name": "stdout"
        },
        {
          "output_type": "execute_result",
          "data": {
            "text/plain": [
              "676.4739990234375"
            ]
          },
          "metadata": {
            "tags": []
          },
          "execution_count": 198
        }
      ]
    },
    {
      "cell_type": "code",
      "metadata": {
        "colab": {
          "base_uri": "https://localhost:8080/"
        },
        "id": "j99tbnwSsD8R",
        "outputId": "1a7aaebd-6308-4f50-ec9e-49e785523d77"
      },
      "source": [
        "# Make predictions\n",
        "model_4_preds = make_forecast(model_4, test_windows)\n",
        "model_4_preds[:10]"
      ],
      "execution_count": 199,
      "outputs": [
        {
          "output_type": "execute_result",
          "data": {
            "text/plain": [
              "<tf.Tensor: shape=(10,), dtype=float32, numpy=\n",
              "array([9035.316, 8882.988, 8969.594, 8824.   , 8778.451, 8793.549,\n",
              "       8696.408, 8580.42 , 8533.631, 8515.762], dtype=float32)>"
            ]
          },
          "metadata": {
            "tags": []
          },
          "execution_count": 199
        }
      ]
    },
    {
      "cell_type": "code",
      "metadata": {
        "colab": {
          "base_uri": "https://localhost:8080/"
        },
        "id": "yjfEDWxjrZW2",
        "outputId": "920c7d43-0fbc-4483-cf92-f4ce8c486136"
      },
      "source": [
        "# Evaluate predictions\n",
        "model_4_results = evaluate_preds(y_true=tf.squeeze(test_labels),\n",
        "                                 y_pred=model_4_preds)\n",
        "model_4_results"
      ],
      "execution_count": 200,
      "outputs": [
        {
          "output_type": "execute_result",
          "data": {
            "text/plain": [
              "{'mae': 676.474, 'mape': 2.9919226, 'mse': 1529504.5, 'smape': 2.9915662}"
            ]
          },
          "metadata": {
            "tags": []
          },
          "execution_count": 200
        }
      ]
    },
    {
      "cell_type": "code",
      "metadata": {
        "colab": {
          "base_uri": "https://localhost:8080/"
        },
        "id": "9cot26xWrcXh",
        "outputId": "03acd55a-f0b4-4fcd-887e-a61484f48b34"
      },
      "source": [
        "model_4_results"
      ],
      "execution_count": 201,
      "outputs": [
        {
          "output_type": "execute_result",
          "data": {
            "text/plain": [
              "{'mae': 676.474, 'mape': 2.9919226, 'mse': 1529504.5, 'smape': 2.9915662}"
            ]
          },
          "metadata": {
            "tags": []
          },
          "execution_count": 201
        }
      ]
    },
    {
      "cell_type": "markdown",
      "metadata": {
        "id": "pZ2s0Rx0rZjE"
      },
      "source": [
        "## TODO: Model X RNN (LSTM)"
      ]
    },
    {
      "cell_type": "code",
      "metadata": {
        "colab": {
          "base_uri": "https://localhost:8080/"
        },
        "id": "LwG908g24AER",
        "outputId": "6fbf9c06-6fb7-46a3-db03-fab27b954a03"
      },
      "source": [
        "len(train_windows), len(train_labels)"
      ],
      "execution_count": 164,
      "outputs": [
        {
          "output_type": "execute_result",
          "data": {
            "text/plain": [
              "(2223, 2223)"
            ]
          },
          "metadata": {
            "tags": []
          },
          "execution_count": 164
        }
      ]
    },
    {
      "cell_type": "code",
      "metadata": {
        "colab": {
          "base_uri": "https://localhost:8080/"
        },
        "id": "a6YFL_b-rZrt",
        "outputId": "7b32b2c0-1b4b-4b68-d0be-00d4b1e12494"
      },
      "source": [
        "# Let's build an LSTM model with the Functional API\n",
        "inputs = layers.Input(shape=(WINDOW_SIZE))\n",
        "x = layers.Lambda(lambda x: tf.expand_dims(x, axis=1))(inputs) # expand input dimension to be compatible with LSTM\n",
        "print(x.shape)\n",
        "x = layers.Conv1D(128, kernel_size=3, padding=\"causal\", activation=\"relu\")(x)\n",
        "x = layers.Bidirectional(layers.LSTM(32, return_sequences=True))(x) # this layer will error if the inputs are not the right shape\n",
        "x = layers.Bidirectional(layers.LSTM(32))(x)\n",
        "print(x.shape)\n",
        "# x = layers.Dense(32, activation=\"relu\")(x)\n",
        "x = layers.Dense(HORIZON)(x)\n",
        "output = tf.keras.layers.Lambda(lambda x: x * 100)(x)\n",
        "model_5 = tf.keras.Model(inputs=inputs, outputs=output, name=\"model_5_lstm\")"
      ],
      "execution_count": 180,
      "outputs": [
        {
          "output_type": "stream",
          "text": [
            "(None, 1, 7)\n",
            "(None, 64)\n"
          ],
          "name": "stdout"
        }
      ]
    },
    {
      "cell_type": "code",
      "metadata": {
        "colab": {
          "base_uri": "https://localhost:8080/"
        },
        "id": "N59tLdtu58G4",
        "outputId": "78133004-60f4-4dcd-c96e-950a7c81af32"
      },
      "source": [
        "model_5.summary()"
      ],
      "execution_count": 181,
      "outputs": [
        {
          "output_type": "stream",
          "text": [
            "Model: \"model_5_lstm\"\n",
            "_________________________________________________________________\n",
            "Layer (type)                 Output Shape              Param #   \n",
            "=================================================================\n",
            "input_21 (InputLayer)        [(None, 7)]               0         \n",
            "_________________________________________________________________\n",
            "lambda_33 (Lambda)           (None, 1, 7)              0         \n",
            "_________________________________________________________________\n",
            "conv1d_12 (Conv1D)           (None, 1, 128)            2816      \n",
            "_________________________________________________________________\n",
            "bidirectional_10 (Bidirectio (None, 1, 64)             41216     \n",
            "_________________________________________________________________\n",
            "bidirectional_11 (Bidirectio (None, 64)                24832     \n",
            "_________________________________________________________________\n",
            "dense_36 (Dense)             (None, 1)                 65        \n",
            "_________________________________________________________________\n",
            "lambda_34 (Lambda)           (None, 1)                 0         \n",
            "=================================================================\n",
            "Total params: 68,929\n",
            "Trainable params: 68,929\n",
            "Non-trainable params: 0\n",
            "_________________________________________________________________\n"
          ],
          "name": "stdout"
        }
      ]
    },
    {
      "cell_type": "code",
      "metadata": {
        "colab": {
          "base_uri": "https://localhost:8080/"
        },
        "id": "F5V02KgdrZzR",
        "outputId": "408d82ab-0b03-421d-e5b6-e2b66bf7c4cd"
      },
      "source": [
        "# Compile model\n",
        "model_5.compile(loss=\"mse\",\n",
        "                optimizer=tf.keras.optimizers.Adam(0.001))\n",
        "\n",
        "# Seems when saving the model several warnings are appearing: https://github.com/tensorflow/tensorflow/issues/47554 \n",
        "model_5.fit(train_windows,\n",
        "            train_labels,\n",
        "            epochs=20,\n",
        "            validation_data=(test_windows, test_labels))\n",
        "            # callbacks=[create_model_checkpoint(model_name=model_5.name)])"
      ],
      "execution_count": 189,
      "outputs": [
        {
          "output_type": "stream",
          "text": [
            "Epoch 1/20\n",
            "70/70 [==============================] - 2s 12ms/step - loss: 22047534.0845 - val_loss: 671053248.0000\n",
            "Epoch 2/20\n",
            "70/70 [==============================] - 0s 6ms/step - loss: 18203289.1268 - val_loss: 653609664.0000\n",
            "Epoch 3/20\n",
            "70/70 [==============================] - 1s 7ms/step - loss: 16248997.6620 - val_loss: 636617280.0000\n",
            "Epoch 4/20\n",
            "70/70 [==============================] - 0s 6ms/step - loss: 16513379.3803 - val_loss: 624343168.0000\n",
            "Epoch 5/20\n",
            "70/70 [==============================] - 0s 6ms/step - loss: 14182984.0070 - val_loss: 615274880.0000\n",
            "Epoch 6/20\n",
            "70/70 [==============================] - 0s 6ms/step - loss: 14611077.7324 - val_loss: 608344832.0000\n",
            "Epoch 7/20\n",
            "70/70 [==============================] - 0s 6ms/step - loss: 15184534.2817 - val_loss: 603940672.0000\n",
            "Epoch 8/20\n",
            "70/70 [==============================] - 0s 6ms/step - loss: 14428074.7746 - val_loss: 600884608.0000\n",
            "Epoch 9/20\n",
            "70/70 [==============================] - 0s 6ms/step - loss: 13696118.9014 - val_loss: 598452096.0000\n",
            "Epoch 10/20\n",
            "70/70 [==============================] - 0s 6ms/step - loss: 13983761.2958 - val_loss: 596759296.0000\n",
            "Epoch 11/20\n",
            "70/70 [==============================] - 0s 6ms/step - loss: 13537558.6549 - val_loss: 595827264.0000\n",
            "Epoch 12/20\n",
            "70/70 [==============================] - 0s 6ms/step - loss: 14492454.5211 - val_loss: 595111296.0000\n",
            "Epoch 13/20\n",
            "70/70 [==============================] - 0s 7ms/step - loss: 14691967.4930 - val_loss: 594818496.0000\n",
            "Epoch 14/20\n",
            "70/70 [==============================] - 0s 6ms/step - loss: 14263298.5070 - val_loss: 594366400.0000\n",
            "Epoch 15/20\n",
            "70/70 [==============================] - 0s 7ms/step - loss: 13818339.5634 - val_loss: 594372096.0000\n",
            "Epoch 16/20\n",
            "70/70 [==============================] - 0s 7ms/step - loss: 13840700.9718 - val_loss: 594230976.0000\n",
            "Epoch 17/20\n",
            "70/70 [==============================] - 0s 6ms/step - loss: 13874953.5775 - val_loss: 593952256.0000\n",
            "Epoch 18/20\n",
            "70/70 [==============================] - 0s 6ms/step - loss: 14005521.4366 - val_loss: 593976512.0000\n",
            "Epoch 19/20\n",
            "70/70 [==============================] - 0s 6ms/step - loss: 13633642.5493 - val_loss: 594311552.0000\n",
            "Epoch 20/20\n",
            "70/70 [==============================] - 0s 6ms/step - loss: 14707219.3099 - val_loss: 594366144.0000\n"
          ],
          "name": "stdout"
        },
        {
          "output_type": "execute_result",
          "data": {
            "text/plain": [
              "<tensorflow.python.keras.callbacks.History at 0x7f9d40882d10>"
            ]
          },
          "metadata": {
            "tags": []
          },
          "execution_count": 189
        }
      ]
    },
    {
      "cell_type": "code",
      "metadata": {
        "colab": {
          "base_uri": "https://localhost:8080/"
        },
        "id": "3DcbfLJOrcGu",
        "outputId": "f6c972b9-f430-4188-eb6d-de48da31ef83"
      },
      "source": [
        "model_5.predict(test_windows)"
      ],
      "execution_count": 190,
      "outputs": [
        {
          "output_type": "execute_result",
          "data": {
            "text/plain": [
              "array([[3150.294],\n",
              "       [3150.294],\n",
              "       [3150.294],\n",
              "       [3150.294],\n",
              "       [3150.294],\n",
              "       [3150.294],\n",
              "       [3150.294],\n",
              "       [3150.294],\n",
              "       [3150.294],\n",
              "       [3150.294],\n",
              "       [3150.294],\n",
              "       [3150.294],\n",
              "       [3150.294],\n",
              "       [3150.294],\n",
              "       [3150.294],\n",
              "       [3150.294],\n",
              "       [3150.294],\n",
              "       [3150.294],\n",
              "       [3150.294],\n",
              "       [3150.294],\n",
              "       [3150.294],\n",
              "       [3150.294],\n",
              "       [3150.294],\n",
              "       [3150.294],\n",
              "       [3150.294],\n",
              "       [3150.294],\n",
              "       [3150.294],\n",
              "       [3150.294],\n",
              "       [3150.294],\n",
              "       [3150.294],\n",
              "       [3150.294],\n",
              "       [3150.294],\n",
              "       [3150.294],\n",
              "       [3150.294],\n",
              "       [3150.294],\n",
              "       [3150.294],\n",
              "       [3150.294],\n",
              "       [3150.294],\n",
              "       [3150.294],\n",
              "       [3150.294],\n",
              "       [3150.294],\n",
              "       [3150.294],\n",
              "       [3150.294],\n",
              "       [3150.294],\n",
              "       [3150.294],\n",
              "       [3150.294],\n",
              "       [3150.294],\n",
              "       [3150.294],\n",
              "       [3150.294],\n",
              "       [3150.294],\n",
              "       [3150.294],\n",
              "       [3150.294],\n",
              "       [3150.294],\n",
              "       [3150.294],\n",
              "       [3150.294],\n",
              "       [3150.294],\n",
              "       [3150.294],\n",
              "       [3150.294],\n",
              "       [3150.294],\n",
              "       [3150.294],\n",
              "       [3150.294],\n",
              "       [3150.294],\n",
              "       [3150.294],\n",
              "       [3150.294],\n",
              "       [3150.294],\n",
              "       [3150.294],\n",
              "       [3150.294],\n",
              "       [3150.294],\n",
              "       [3150.294],\n",
              "       [3150.294],\n",
              "       [3150.294],\n",
              "       [3150.294],\n",
              "       [3150.294],\n",
              "       [3150.294],\n",
              "       [3150.294],\n",
              "       [3150.294],\n",
              "       [3150.294],\n",
              "       [3150.294],\n",
              "       [3150.294],\n",
              "       [3150.294],\n",
              "       [3150.294],\n",
              "       [3150.294],\n",
              "       [3150.294],\n",
              "       [3150.294],\n",
              "       [3150.294],\n",
              "       [3150.294],\n",
              "       [3150.294],\n",
              "       [3150.294],\n",
              "       [3150.294],\n",
              "       [3150.294],\n",
              "       [3150.294],\n",
              "       [3150.294],\n",
              "       [3150.294],\n",
              "       [3150.294],\n",
              "       [3150.294],\n",
              "       [3150.294],\n",
              "       [3150.294],\n",
              "       [3150.294],\n",
              "       [3150.294],\n",
              "       [3150.294],\n",
              "       [3150.294],\n",
              "       [3150.294],\n",
              "       [3150.294],\n",
              "       [3150.294],\n",
              "       [3150.294],\n",
              "       [3150.294],\n",
              "       [3150.294],\n",
              "       [3150.294],\n",
              "       [3150.294],\n",
              "       [3150.294],\n",
              "       [3150.294],\n",
              "       [3150.294],\n",
              "       [3150.294],\n",
              "       [3150.294],\n",
              "       [3150.294],\n",
              "       [3150.294],\n",
              "       [3150.294],\n",
              "       [3150.294],\n",
              "       [3150.294],\n",
              "       [3150.294],\n",
              "       [3150.294],\n",
              "       [3150.294],\n",
              "       [3150.294],\n",
              "       [3150.294],\n",
              "       [3150.294],\n",
              "       [3150.294],\n",
              "       [3150.294],\n",
              "       [3150.294],\n",
              "       [3150.294],\n",
              "       [3150.294],\n",
              "       [3150.294],\n",
              "       [3150.294],\n",
              "       [3150.294],\n",
              "       [3150.294],\n",
              "       [3150.294],\n",
              "       [3150.294],\n",
              "       [3150.294],\n",
              "       [3150.294],\n",
              "       [3150.294],\n",
              "       [3150.294],\n",
              "       [3150.294],\n",
              "       [3150.294],\n",
              "       [3150.294],\n",
              "       [3150.294],\n",
              "       [3150.294],\n",
              "       [3150.294],\n",
              "       [3150.294],\n",
              "       [3150.294],\n",
              "       [3150.294],\n",
              "       [3150.294],\n",
              "       [3150.294],\n",
              "       [3150.294],\n",
              "       [3150.294],\n",
              "       [3150.294],\n",
              "       [3150.294],\n",
              "       [3150.294],\n",
              "       [3150.294],\n",
              "       [3150.294],\n",
              "       [3150.294],\n",
              "       [3150.294],\n",
              "       [3150.294],\n",
              "       [3150.294],\n",
              "       [3150.294],\n",
              "       [3150.294],\n",
              "       [3150.294],\n",
              "       [3150.294],\n",
              "       [3150.294],\n",
              "       [3150.294],\n",
              "       [3150.294],\n",
              "       [3150.294],\n",
              "       [3150.294],\n",
              "       [3150.294],\n",
              "       [3150.294],\n",
              "       [3150.294],\n",
              "       [3150.294],\n",
              "       [3150.294],\n",
              "       [3150.294],\n",
              "       [3150.294],\n",
              "       [3150.294],\n",
              "       [3150.294],\n",
              "       [3150.294],\n",
              "       [3150.294],\n",
              "       [3150.294],\n",
              "       [3150.294],\n",
              "       [3150.294],\n",
              "       [3150.294],\n",
              "       [3150.294],\n",
              "       [3150.294],\n",
              "       [3150.294],\n",
              "       [3150.294],\n",
              "       [3150.294],\n",
              "       [3150.294],\n",
              "       [3150.294],\n",
              "       [3150.294],\n",
              "       [3150.294],\n",
              "       [3150.294],\n",
              "       [3150.294],\n",
              "       [3150.294],\n",
              "       [3150.294],\n",
              "       [3150.294],\n",
              "       [3150.294],\n",
              "       [3150.294],\n",
              "       [3150.294],\n",
              "       [3150.294],\n",
              "       [3150.294],\n",
              "       [3150.294],\n",
              "       [3150.294],\n",
              "       [3150.294],\n",
              "       [3150.294],\n",
              "       [3150.294],\n",
              "       [3150.294],\n",
              "       [3150.294],\n",
              "       [3150.294],\n",
              "       [3150.294],\n",
              "       [3150.294],\n",
              "       [3150.294],\n",
              "       [3150.294],\n",
              "       [3150.294],\n",
              "       [3150.294],\n",
              "       [3150.294],\n",
              "       [3150.294],\n",
              "       [3150.294],\n",
              "       [3150.294],\n",
              "       [3150.294],\n",
              "       [3150.294],\n",
              "       [3150.294],\n",
              "       [3150.294],\n",
              "       [3150.294],\n",
              "       [3150.294],\n",
              "       [3150.294],\n",
              "       [3150.294],\n",
              "       [3150.294],\n",
              "       [3150.294],\n",
              "       [3150.294],\n",
              "       [3150.294],\n",
              "       [3150.294],\n",
              "       [3150.294],\n",
              "       [3150.294],\n",
              "       [3150.294],\n",
              "       [3150.294],\n",
              "       [3150.294],\n",
              "       [3150.294],\n",
              "       [3150.294],\n",
              "       [3150.294],\n",
              "       [3150.294],\n",
              "       [3150.294],\n",
              "       [3150.294],\n",
              "       [3150.294],\n",
              "       [3150.294],\n",
              "       [3150.294],\n",
              "       [3150.294],\n",
              "       [3150.294],\n",
              "       [3150.294],\n",
              "       [3150.294],\n",
              "       [3150.294],\n",
              "       [3150.294],\n",
              "       [3150.294],\n",
              "       [3150.294],\n",
              "       [3150.294],\n",
              "       [3150.294],\n",
              "       [3150.294],\n",
              "       [3150.294],\n",
              "       [3150.294],\n",
              "       [3150.294],\n",
              "       [3150.294],\n",
              "       [3150.294],\n",
              "       [3150.294],\n",
              "       [3150.294],\n",
              "       [3150.294],\n",
              "       [3150.294],\n",
              "       [3150.294],\n",
              "       [3150.294],\n",
              "       [3150.294],\n",
              "       [3150.294],\n",
              "       [3150.294],\n",
              "       [3150.294],\n",
              "       [3150.294],\n",
              "       [3150.294],\n",
              "       [3150.294],\n",
              "       [3150.294],\n",
              "       [3150.294],\n",
              "       [3150.294],\n",
              "       [3150.294],\n",
              "       [3150.294],\n",
              "       [3150.294],\n",
              "       [3150.294],\n",
              "       [3150.294],\n",
              "       [3150.294],\n",
              "       [3150.294],\n",
              "       [3150.294],\n",
              "       [3150.294],\n",
              "       [3150.294],\n",
              "       [3150.294],\n",
              "       [3150.294],\n",
              "       [3150.294],\n",
              "       [3150.294],\n",
              "       [3150.294],\n",
              "       [3150.294],\n",
              "       [3150.294],\n",
              "       [3150.294],\n",
              "       [3150.294],\n",
              "       [3150.294],\n",
              "       [3150.294],\n",
              "       [3150.294],\n",
              "       [3150.294],\n",
              "       [3150.294],\n",
              "       [3150.294],\n",
              "       [3150.294],\n",
              "       [3150.294],\n",
              "       [3150.294],\n",
              "       [3150.294],\n",
              "       [3150.294],\n",
              "       [3150.294],\n",
              "       [3150.294],\n",
              "       [3150.294],\n",
              "       [3150.294],\n",
              "       [3150.294],\n",
              "       [3150.294],\n",
              "       [3150.294],\n",
              "       [3150.294],\n",
              "       [3150.294],\n",
              "       [3150.294],\n",
              "       [3150.294],\n",
              "       [3150.294],\n",
              "       [3150.294],\n",
              "       [3150.294],\n",
              "       [3150.294],\n",
              "       [3150.294],\n",
              "       [3150.294],\n",
              "       [3150.294],\n",
              "       [3150.294],\n",
              "       [3150.294],\n",
              "       [3150.294],\n",
              "       [3150.294],\n",
              "       [3150.294],\n",
              "       [3150.294],\n",
              "       [3150.294],\n",
              "       [3150.294],\n",
              "       [3150.294],\n",
              "       [3150.294],\n",
              "       [3150.294],\n",
              "       [3150.294],\n",
              "       [3150.294],\n",
              "       [3150.294],\n",
              "       [3150.294],\n",
              "       [3150.294],\n",
              "       [3150.294],\n",
              "       [3150.294],\n",
              "       [3150.294],\n",
              "       [3150.294],\n",
              "       [3150.294],\n",
              "       [3150.294],\n",
              "       [3150.294],\n",
              "       [3150.294],\n",
              "       [3150.294],\n",
              "       [3150.294],\n",
              "       [3150.294],\n",
              "       [3150.294],\n",
              "       [3150.294],\n",
              "       [3150.294],\n",
              "       [3150.294],\n",
              "       [3150.294],\n",
              "       [3150.294],\n",
              "       [3150.294],\n",
              "       [3150.294],\n",
              "       [3150.294],\n",
              "       [3150.294],\n",
              "       [3150.294],\n",
              "       [3150.294],\n",
              "       [3150.294],\n",
              "       [3150.294],\n",
              "       [3150.294],\n",
              "       [3150.294],\n",
              "       [3150.294],\n",
              "       [3150.294],\n",
              "       [3150.294],\n",
              "       [3150.294],\n",
              "       [3150.294],\n",
              "       [3150.294],\n",
              "       [3150.294],\n",
              "       [3150.294],\n",
              "       [3150.294],\n",
              "       [3150.294],\n",
              "       [3150.294],\n",
              "       [3150.294],\n",
              "       [3150.294],\n",
              "       [3150.294],\n",
              "       [3150.294],\n",
              "       [3150.294],\n",
              "       [3150.294],\n",
              "       [3150.294],\n",
              "       [3150.294],\n",
              "       [3150.294],\n",
              "       [3150.294],\n",
              "       [3150.294],\n",
              "       [3150.294],\n",
              "       [3150.294],\n",
              "       [3150.294],\n",
              "       [3150.294],\n",
              "       [3150.294],\n",
              "       [3150.294],\n",
              "       [3150.294],\n",
              "       [3150.294],\n",
              "       [3150.294],\n",
              "       [3150.294],\n",
              "       [3150.294],\n",
              "       [3150.294],\n",
              "       [3150.294],\n",
              "       [3150.294],\n",
              "       [3150.294],\n",
              "       [3150.294],\n",
              "       [3150.294],\n",
              "       [3150.294],\n",
              "       [3150.294],\n",
              "       [3150.294],\n",
              "       [3150.294],\n",
              "       [3150.294],\n",
              "       [3150.294],\n",
              "       [3150.294],\n",
              "       [3150.294],\n",
              "       [3150.294],\n",
              "       [3150.294],\n",
              "       [3150.294],\n",
              "       [3150.294],\n",
              "       [3150.294],\n",
              "       [3150.294],\n",
              "       [3150.294],\n",
              "       [3150.294],\n",
              "       [3150.294],\n",
              "       [3150.294],\n",
              "       [3150.294],\n",
              "       [3150.294],\n",
              "       [3150.294],\n",
              "       [3150.294],\n",
              "       [3150.294],\n",
              "       [3150.294],\n",
              "       [3150.294],\n",
              "       [3150.294],\n",
              "       [3150.294],\n",
              "       [3150.294],\n",
              "       [3150.294],\n",
              "       [3150.294],\n",
              "       [3150.294],\n",
              "       [3150.294],\n",
              "       [3150.294],\n",
              "       [3150.294],\n",
              "       [3150.294],\n",
              "       [3150.294],\n",
              "       [3150.294],\n",
              "       [3150.294],\n",
              "       [3150.294],\n",
              "       [3150.294],\n",
              "       [3150.294],\n",
              "       [3150.294],\n",
              "       [3150.294],\n",
              "       [3150.294],\n",
              "       [3150.294],\n",
              "       [3150.294],\n",
              "       [3150.294],\n",
              "       [3150.294],\n",
              "       [3150.294],\n",
              "       [3150.294],\n",
              "       [3150.294],\n",
              "       [3150.294],\n",
              "       [3150.294],\n",
              "       [3150.294],\n",
              "       [3150.294],\n",
              "       [3150.294],\n",
              "       [3150.294],\n",
              "       [3150.294],\n",
              "       [3150.294],\n",
              "       [3150.294],\n",
              "       [3150.294],\n",
              "       [3150.294],\n",
              "       [3150.294],\n",
              "       [3150.294],\n",
              "       [3150.294],\n",
              "       [3150.294],\n",
              "       [3150.294],\n",
              "       [3150.294],\n",
              "       [3150.294],\n",
              "       [3150.294],\n",
              "       [3150.294],\n",
              "       [3150.294],\n",
              "       [3150.294],\n",
              "       [3150.294],\n",
              "       [3150.294],\n",
              "       [3150.294],\n",
              "       [3150.294],\n",
              "       [3150.294],\n",
              "       [3150.294],\n",
              "       [3150.294],\n",
              "       [3150.294],\n",
              "       [3150.294],\n",
              "       [3150.294],\n",
              "       [3150.294],\n",
              "       [3150.294],\n",
              "       [3150.294],\n",
              "       [3150.294],\n",
              "       [3150.294],\n",
              "       [3150.294],\n",
              "       [3150.294],\n",
              "       [3150.294],\n",
              "       [3150.294],\n",
              "       [3150.294],\n",
              "       [3150.294],\n",
              "       [3150.294],\n",
              "       [3150.294],\n",
              "       [3150.294],\n",
              "       [3150.294],\n",
              "       [3150.294],\n",
              "       [3150.294],\n",
              "       [3150.294],\n",
              "       [3150.294],\n",
              "       [3150.294],\n",
              "       [3150.294],\n",
              "       [3150.294],\n",
              "       [3150.294],\n",
              "       [3150.294],\n",
              "       [3150.294],\n",
              "       [3150.294],\n",
              "       [3150.294],\n",
              "       [3150.294],\n",
              "       [3150.294],\n",
              "       [3150.294],\n",
              "       [3150.294],\n",
              "       [3150.294],\n",
              "       [3150.294],\n",
              "       [3150.294],\n",
              "       [3150.294],\n",
              "       [3150.294],\n",
              "       [3150.294],\n",
              "       [3150.294],\n",
              "       [3150.294],\n",
              "       [3150.294],\n",
              "       [3150.294],\n",
              "       [3150.294],\n",
              "       [3150.294],\n",
              "       [3150.294],\n",
              "       [3150.294],\n",
              "       [3150.294],\n",
              "       [3150.294],\n",
              "       [3150.294],\n",
              "       [3150.294],\n",
              "       [3150.294],\n",
              "       [3150.294],\n",
              "       [3150.294],\n",
              "       [3150.294],\n",
              "       [3150.294],\n",
              "       [3150.294],\n",
              "       [3150.294],\n",
              "       [3150.294],\n",
              "       [3150.294],\n",
              "       [3150.294],\n",
              "       [3150.294],\n",
              "       [3150.294]], dtype=float32)"
            ]
          },
          "metadata": {
            "tags": []
          },
          "execution_count": 190
        }
      ]
    },
    {
      "cell_type": "markdown",
      "metadata": {
        "id": "bfl8rXDVu_pJ"
      },
      "source": [
        "## TODO: Make TensorFlow windows"
      ]
    },
    {
      "cell_type": "code",
      "metadata": {
        "id": "N5Bs0_NwvCFV"
      },
      "source": [
        ""
      ],
      "execution_count": null,
      "outputs": []
    },
    {
      "cell_type": "markdown",
      "metadata": {
        "id": "UW9oxH47EK-6"
      },
      "source": [
        "## TODO: Make future forecasts...\n",
        "\n",
        "* TODO\n",
        "  * Make forecasting better (how can I forecast on an arbitrary amount of steps)\n",
        "  * Create evaluation method for larger windows/horizons\n",
        "  * Build more modelling experiments\n",
        "  * Create multivariate time series\n",
        "  * Create TensorFlow windowing function\n",
        "\n",
        "* Forecasts can't be compared to anything... because they're a forecast... derp"
      ]
    },
    {
      "cell_type": "code",
      "metadata": {
        "colab": {
          "base_uri": "https://localhost:8080/"
        },
        "id": "uWlh2P7pBQpX",
        "outputId": "b59d2640-df5b-4081-b53b-abd1af6077e5"
      },
      "source": [
        "WINDOW_SIZE"
      ],
      "execution_count": null,
      "outputs": [
        {
          "output_type": "execute_result",
          "data": {
            "text/plain": [
              "10"
            ]
          },
          "metadata": {
            "tags": []
          },
          "execution_count": 365
        }
      ]
    },
    {
      "cell_type": "code",
      "metadata": {
        "id": "0Hu1eH59BcuN"
      },
      "source": [
        "# TODO: Create make forecast function with:\n",
        "# Can forecast on any model\n",
        "# Can forecast on any time series (gets formatted to be same as the model's requirements)"
      ],
      "execution_count": null,
      "outputs": []
    },
    {
      "cell_type": "code",
      "metadata": {
        "colab": {
          "base_uri": "https://localhost:8080/"
        },
        "id": "6WYGil3TBTEA",
        "outputId": "ec25bc72-77be-4b06-c929-e180f6a450ce"
      },
      "source": [
        "# Make forecast with one model... \n",
        "model_3_forecast = model_3.predict(tf.expand_dims(y_test[-model_3.input_shape[-1]:], axis=0))\n",
        "model_3_forecast"
      ],
      "execution_count": null,
      "outputs": [
        {
          "output_type": "execute_result",
          "data": {
            "text/plain": [
              "array([[51037.02]], dtype=float32)"
            ]
          },
          "metadata": {
            "tags": []
          },
          "execution_count": 450
        }
      ]
    },
    {
      "cell_type": "code",
      "metadata": {
        "id": "soQoulDxEhAp"
      },
      "source": [
        "# TODO: Update this to work with future data...\n",
        "def make_future_forecast(model, input_data):\n",
        "  \"\"\"\n",
        "  Uses model to make forecasts on input_data.\n",
        "  \"\"\"\n",
        "  forecast = model.predict(tf.expand_dims(input_data[-model.input_shape[-1]:], axis=0)) # make future predictions on last timestep(s) of input_data\n",
        "  return tf.squeeze(forecast).numpy()"
      ],
      "execution_count": null,
      "outputs": []
    },
    {
      "cell_type": "code",
      "metadata": {
        "colab": {
          "base_uri": "https://localhost:8080/"
        },
        "id": "cU0-6mgXFT3F",
        "outputId": "8c6216a3-480f-4212-ec28-eb40595c4a06"
      },
      "source": [
        "model_2_forecast = make_forecast(model_2, y_test)\n",
        "model_2_forecast"
      ],
      "execution_count": null,
      "outputs": [
        {
          "output_type": "execute_result",
          "data": {
            "text/plain": [
              "array([53904.688, 43581.746, 53670.637, 51078.867, 45989.836, 47447.473,\n",
              "       44555.715, 46859.6  , 54127.32 , 54640.65 , 52999.043, 52226.145,\n",
              "       46463.242, 45323.86 ], dtype=float32)"
            ]
          },
          "metadata": {
            "tags": []
          },
          "execution_count": 454
        }
      ]
    },
    {
      "cell_type": "code",
      "metadata": {
        "colab": {
          "base_uri": "https://localhost:8080/"
        },
        "id": "6cIibo-CFcxA",
        "outputId": "e3167e29-944a-4f7d-b28a-3e7812a7d7eb"
      },
      "source": [
        "model_3_forecast = make_forecast(model_3, y_test)\n",
        "model_3_forecast"
      ],
      "execution_count": null,
      "outputs": [
        {
          "output_type": "execute_result",
          "data": {
            "text/plain": [
              "51037.02"
            ]
          },
          "metadata": {
            "tags": []
          },
          "execution_count": 457
        }
      ]
    },
    {
      "cell_type": "markdown",
      "metadata": {
        "id": "QuaY0cOaCHfr"
      },
      "source": [
        "### TODO: Plot forecasts\n",
        "\n",
        "* Need: \n",
        "  * horizon # of dates in future\n",
        "  * forecast"
      ]
    },
    {
      "cell_type": "code",
      "metadata": {
        "colab": {
          "base_uri": "https://localhost:8080/"
        },
        "id": "6676Sl-cAFn5",
        "outputId": "c8cfc1d7-a4d7-4930-a2de-40e4b84c6640"
      },
      "source": [
        "# Last timestep of timesteps (currently in np.datetime64 format)\n",
        "X_test[-1]"
      ],
      "execution_count": null,
      "outputs": [
        {
          "output_type": "execute_result",
          "data": {
            "text/plain": [
              "numpy.datetime64('2021-05-18T00:00:00.000000000')"
            ]
          },
          "metadata": {
            "tags": []
          },
          "execution_count": 443
        }
      ]
    },
    {
      "cell_type": "code",
      "metadata": {
        "id": "i4iNNliSCbU-"
      },
      "source": [
        "def get_future_dates(start_date, horizon=1, offset=1):\n",
        "  \"\"\"\n",
        "  Returns array of datetime values from ranging from start_date to start_date+horizon.\n",
        "\n",
        "  start_date: date to start range (np.datetime64)\n",
        "  horizon: number of day to add onto start date for range (int)\n",
        "  offset: if offset=1 (default), original date is not included, if offset=0, original date is included\n",
        "  \"\"\"\n",
        "  return np.arange(start_date + np.timedelta64(offset, \"D\"), start_date + np.timedelta64(horizon+1, \"D\"), dtype=\"datetime64[D]\")"
      ],
      "execution_count": null,
      "outputs": []
    },
    {
      "cell_type": "code",
      "metadata": {
        "id": "252bhVD7C5NZ"
      },
      "source": [
        "next_time_steps = get_future_dates(start_date=X_test[-1], horizon=HORIZON)"
      ],
      "execution_count": null,
      "outputs": []
    },
    {
      "cell_type": "code",
      "metadata": {
        "colab": {
          "base_uri": "https://localhost:8080/"
        },
        "id": "gtOqAgSPyjtn",
        "outputId": "e54d6fcf-ac1e-4152-b646-20778f81393d"
      },
      "source": [
        "# Example of getting next two weeks\n",
        "next_two_weeks = get_future_dates(start_date=X_test[-1], horizon=14)\n",
        "next_two_weeks"
      ],
      "execution_count": null,
      "outputs": [
        {
          "output_type": "execute_result",
          "data": {
            "text/plain": [
              "array(['2021-05-19', '2021-05-20', '2021-05-21', '2021-05-22',\n",
              "       '2021-05-23', '2021-05-24', '2021-05-25', '2021-05-26',\n",
              "       '2021-05-27', '2021-05-28', '2021-05-29', '2021-05-30',\n",
              "       '2021-05-31', '2021-06-01'], dtype='datetime64[D]')"
            ]
          },
          "metadata": {
            "tags": []
          },
          "execution_count": 544
        }
      ]
    },
    {
      "cell_type": "code",
      "metadata": {
        "id": "G_5UX08aCThS"
      },
      "source": [
        "model_2_forecast = np.insert(model_2_forecast, 0, y_test[-1]) \n",
        "future_dates = np.insert(next_two_weeks, 0, X_test[-1])"
      ],
      "execution_count": null,
      "outputs": []
    },
    {
      "cell_type": "code",
      "metadata": {
        "colab": {
          "base_uri": "https://localhost:8080/"
        },
        "id": "iBj7y088EAYc",
        "outputId": "b56e0a2e-76f6-4189-f678-559a602bfe79"
      },
      "source": [
        "model_2_forecast, future_dates"
      ],
      "execution_count": null,
      "outputs": [
        {
          "output_type": "execute_result",
          "data": {
            "text/plain": [
              "(array([43144.473, 53904.688, 43581.746, 53670.637, 51078.867, 45989.836,\n",
              "        47447.473, 44555.715, 46859.6  , 54127.32 , 54640.65 , 52999.043,\n",
              "        52226.145, 46463.242, 45323.86 ], dtype=float32),\n",
              " array(['2021-05-18', '2021-05-19', '2021-05-20', '2021-05-21',\n",
              "        '2021-05-22', '2021-05-23', '2021-05-24', '2021-05-25',\n",
              "        '2021-05-26', '2021-05-27', '2021-05-28', '2021-05-29',\n",
              "        '2021-05-30', '2021-05-31', '2021-06-01'], dtype='datetime64[D]'))"
            ]
          },
          "metadata": {
            "tags": []
          },
          "execution_count": 546
        }
      ]
    },
    {
      "cell_type": "markdown",
      "metadata": {
        "id": "V4jPtORZEgs9"
      },
      "source": [
        "TODO: Fix the below graph to have model_2_preds... continued into model 2 forecast, want to have the windowed forecast plottable & then predictions being able to be made multiple steps into the future"
      ]
    },
    {
      "cell_type": "code",
      "metadata": {
        "colab": {
          "base_uri": "https://localhost:8080/"
        },
        "id": "GyaSsy8bJw5-",
        "outputId": "3debee8b-a82b-4a0f-e105-55f6379a4349"
      },
      "source": [
        "tf.keras.metrics.mean_absolute_error(y_test[WINDOW_SIZE:-(len(y_test) % HORIZON)-1], # account for window sizes/cutoff\n",
        "                                     tf.reduce_mean(model_2_preds, axis=1))"
      ],
      "execution_count": null,
      "outputs": [
        {
          "output_type": "execute_result",
          "data": {
            "text/plain": [
              "<tf.Tensor: shape=(), dtype=float32, numpy=1481.0415>"
            ]
          },
          "metadata": {
            "tags": []
          },
          "execution_count": 528
        }
      ]
    },
    {
      "cell_type": "code",
      "metadata": {
        "colab": {
          "base_uri": "https://localhost:8080/"
        },
        "id": "xTYDnN2WGhu9",
        "outputId": "90215aa3-9fb1-4821-b91d-508c5cdcf3a1"
      },
      "source": [
        "model_2_results"
      ],
      "execution_count": null,
      "outputs": [
        {
          "output_type": "execute_result",
          "data": {
            "text/plain": [
              "{'mae': 2529.3965, 'mape': 9.727565, 'mse': 16825896.0, 'smape': 10.112202}"
            ]
          },
          "metadata": {
            "tags": []
          },
          "execution_count": 529
        }
      ]
    },
    {
      "cell_type": "code",
      "metadata": {
        "colab": {
          "base_uri": "https://localhost:8080/"
        },
        "id": "Yw-e5fkcMOAl",
        "outputId": "5341bffb-fce2-4ecf-fb8e-8a98d66edcbc"
      },
      "source": [
        "y_test[140:140+14], test_labels[0]"
      ],
      "execution_count": null,
      "outputs": [
        {
          "output_type": "execute_result",
          "data": {
            "text/plain": [
              "(array([6721.49539238, 6682.7800492 , 6229.48834283, 5922.48983509,\n",
              "        6483.73944553, 6446.42134684, 6537.3364615 , 6850.55871169,\n",
              "        6776.37009357, 6855.93326446, 6805.3622869 , 7278.24396977,\n",
              "        7175.66747656, 7367.29339845]),\n",
              " array([6721.49539238, 6682.7800492 , 6229.48834283, 5922.48983509,\n",
              "        6483.73944553, 6446.42134684, 6537.3364615 , 6850.55871169,\n",
              "        6776.37009357, 6855.93326446, 6805.3622869 , 7278.24396977,\n",
              "        7175.66747656, 7367.29339845]))"
            ]
          },
          "metadata": {
            "tags": []
          },
          "execution_count": 551
        }
      ]
    },
    {
      "cell_type": "code",
      "metadata": {
        "colab": {
          "base_uri": "https://localhost:8080/"
        },
        "id": "QNC3HzAGLM1z",
        "outputId": "b3af51ad-69e9-4107-9b2c-cdcf54656cce"
      },
      "source": [
        "tf.reduce_mean(model_2_preds[-100:], axis=1)"
      ],
      "execution_count": null,
      "outputs": [
        {
          "output_type": "execute_result",
          "data": {
            "text/plain": [
              "<tf.Tensor: shape=(100,), dtype=float32, numpy=\n",
              "array([36701.473, 36144.57 , 35764.348, 34901.656, 34843.71 , 35094.81 ,\n",
              "       35132.727, 34703.82 , 34822.19 , 34917.02 , 35235.418, 35918.348,\n",
              "       36537.855, 36705.363, 37077.176, 38421.293, 39489.344, 40080.098,\n",
              "       40876.883, 42075.066, 43110.34 , 44393.844, 45216.777, 45956.57 ,\n",
              "       46855.19 , 48068.395, 49270.723, 50073.617, 51104.812, 51841.305,\n",
              "       51963.098, 52384.965, 52220.   , 51455.895, 51411.168, 51489.188,\n",
              "       51131.52 , 50980.19 , 50987.875, 51007.54 , 51163.258, 51886.066,\n",
              "       52521.082, 52356.008, 53245.973, 54041.48 , 55264.96 , 55964.742,\n",
              "       56759.926, 57594.387, 58877.68 , 59014.035, 59824.086, 59583.305,\n",
              "       59824.34 , 60218.43 , 59945.965, 59501.598, 58837.625, 58398.35 ,\n",
              "       57354.477, 57350.035, 57393.535, 56191.32 , 56402.09 , 56915.77 ,\n",
              "       56231.77 , 56628.395, 56597.395, 56858.844, 57405.73 , 58069.418,\n",
              "       57892.56 , 57875.32 , 57569.188, 58106.938, 58683.445, 59460.043,\n",
              "       60356.37 , 61224.145, 61700.85 , 62376.965, 63341.246, 63533.957,\n",
              "       63728.312, 63351.645, 63100.29 , 62591.418, 61397.555, 60589.914,\n",
              "       60047.062, 58441.508, 58210.43 , 58898.125, 57963.316, 57164.215,\n",
              "       57364.543, 56864.16 , 56845.277, 56932.164], dtype=float32)>"
            ]
          },
          "metadata": {
            "tags": []
          },
          "execution_count": 549
        }
      ]
    },
    {
      "cell_type": "code",
      "metadata": {
        "colab": {
          "base_uri": "https://localhost:8080/"
        },
        "id": "ShxXEbrGNQ1Q",
        "outputId": "5a3e10e0-25d6-469f-d809-4be40346e9f4"
      },
      "source": [
        "100-len(y_test) % HORIZON - 1"
      ],
      "execution_count": null,
      "outputs": [
        {
          "output_type": "execute_result",
          "data": {
            "text/plain": [
              "87"
            ]
          },
          "metadata": {
            "tags": []
          },
          "execution_count": 556
        }
      ]
    },
    {
      "cell_type": "code",
      "metadata": {
        "colab": {
          "base_uri": "https://localhost:8080/"
        },
        "id": "3t7X4qdnNd49",
        "outputId": "be879017-f34c-4879-c30b-da8c00d5f0fb"
      },
      "source": [
        "100+((len(y_test) % HORIZON) - 1)"
      ],
      "execution_count": null,
      "outputs": [
        {
          "output_type": "execute_result",
          "data": {
            "text/plain": [
              "111"
            ]
          },
          "metadata": {
            "tags": []
          },
          "execution_count": 564
        }
      ]
    },
    {
      "cell_type": "code",
      "metadata": {
        "colab": {
          "base_uri": "https://localhost:8080/"
        },
        "id": "sd7o-YLKNsyU",
        "outputId": "a1fd41b8-87c1-4753-a9ff-53f4117de4ef"
      },
      "source": [
        "X_test[-111]"
      ],
      "execution_count": null,
      "outputs": [
        {
          "output_type": "execute_result",
          "data": {
            "text/plain": [
              "numpy.datetime64('2021-01-28T00:00:00.000000000')"
            ]
          },
          "metadata": {
            "tags": []
          },
          "execution_count": 565
        }
      ]
    },
    {
      "cell_type": "code",
      "metadata": {
        "colab": {
          "base_uri": "https://localhost:8080/"
        },
        "id": "2l1nbCpMN29T",
        "outputId": "77b16be9-5635-42e4-d2da-42588a3ed7b5"
      },
      "source": [
        "# Does indexing on this account for the lagging window???\n",
        "(100+(len(y_test) % HORIZON) - 1)"
      ],
      "execution_count": null,
      "outputs": [
        {
          "output_type": "execute_result",
          "data": {
            "text/plain": [
              "111"
            ]
          },
          "metadata": {
            "tags": []
          },
          "execution_count": 566
        }
      ]
    },
    {
      "cell_type": "code",
      "metadata": {
        "colab": {
          "base_uri": "https://localhost:8080/",
          "height": 447
        },
        "id": "B_7z2XE5N9mj",
        "outputId": "299990ef-0b00-4190-dffd-99c330a36334"
      },
      "source": [
        "## TODO: Note the non-adjusted plot here...\n",
        "# Plot forecast\n",
        "plt.figure(figsize=(10, 7))\n",
        "plt.plot(X_test[-100:], y_test[-100:], label=\"test_data\")\n",
        "# plt.plot(X_train, y_train)\n",
        "plt.plot(X_test[-100:], tf.reduce_mean(model_2_preds[-100:], axis=1), label=\"model_2_preds\")\n",
        "plt.plot(future_dates, model_2_forecast.ravel(), label=\"model_2_forecast\")\n",
        "plt.legend()\n",
        "plt.plot()"
      ],
      "execution_count": null,
      "outputs": [
        {
          "output_type": "execute_result",
          "data": {
            "text/plain": [
              "[]"
            ]
          },
          "metadata": {
            "tags": []
          },
          "execution_count": 569
        },
        {
          "output_type": "display_data",
          "data": {
            "image/png": "[encoded data removed]",
            "text/plain": [
              "<Figure size 720x504 with 1 Axes>"
            ]
          },
          "metadata": {
            "tags": [],
            "needs_background": "light"
          }
        }
      ]
    },
    {
      "cell_type": "code",
      "metadata": {
        "colab": {
          "base_uri": "https://localhost:8080/",
          "height": 447
        },
        "id": "MqTK7pr688o2",
        "outputId": "786ba446-0e9f-4647-a00c-6bbde286097d"
      },
      "source": [
        "## TODO: Note the adjusted plot here...\n",
        "# Plot forecast\n",
        "plt.figure(figsize=(10, 7))\n",
        "plt.plot(X_test[-100:], y_test[-100:], label=\"test_data\")\n",
        "# plt.plot(X_train, y_train)\n",
        "plt.plot(X_test[-(100+HORIZON):-HORIZON], tf.reduce_mean(model_2_preds[-100:], axis=1), label=\"model_2_preds\")\n",
        "plt.plot(future_dates, model_2_forecast.ravel(), label=\"model_2_forecast\")\n",
        "plt.legend()\n",
        "plt.plot()"
      ],
      "execution_count": null,
      "outputs": [
        {
          "output_type": "execute_result",
          "data": {
            "text/plain": [
              "[]"
            ]
          },
          "metadata": {
            "tags": []
          },
          "execution_count": 571
        },
        {
          "output_type": "display_data",
          "data": {
            "image/png": "[encoded data removed]",
            "text/plain": [
              "<Figure size 720x504 with 1 Axes>"
            ]
          },
          "metadata": {
            "tags": [],
            "needs_background": "light"
          }
        }
      ]
    },
    {
      "cell_type": "code",
      "metadata": {
        "id": "_bSQcfknCjN4"
      },
      "source": [
        ""
      ],
      "execution_count": null,
      "outputs": []
    },
    {
      "cell_type": "code",
      "metadata": {
        "id": "ZcbnNGhhL6ss"
      },
      "source": [
        ""
      ],
      "execution_count": null,
      "outputs": []
    },
    {
      "cell_type": "code",
      "metadata": {
        "id": "b4W2c9woL6jZ"
      },
      "source": [
        ""
      ],
      "execution_count": null,
      "outputs": []
    },
    {
      "cell_type": "code",
      "metadata": {
        "id": "4dfvsCORCjIi"
      },
      "source": [
        ""
      ],
      "execution_count": null,
      "outputs": []
    },
    {
      "cell_type": "markdown",
      "metadata": {
        "id": "Y82CDMWp5Wva"
      },
      "source": [
        "# TODO: Make a multivariate time series \n",
        "\n",
        "Bitcoin price + halving events...\n",
        "\n",
        "-> https://www.investopedia.com/bitcoin-halving-4843769\n",
        "\n",
        "> Vigg_1991: For me … I use sensor data for predictions and forecasting … the toughest part of a time series has been .. when doing multivariate time series … some inputs may have larger scale compared to the target .. therefore do we de-trend all the data to keep them consistent or do we keep them them the way they are … because sometimes they lose the correlation between them once they are retreaded for prediction. How would you handle that ? Or is that important for deep learning predictions?\n",
        "\n",
        "* inputs: larger scale compared to target\n",
        "* detrend all the data to keep them consistent? Or keep the same way?\n",
        "* sometimes they lose the correlation between them once they are de-trended "
      ]
    },
    {
      "cell_type": "code",
      "metadata": {
        "id": "z7XrBXMy5WQG"
      },
      "source": [
        ""
      ],
      "execution_count": null,
      "outputs": []
    },
    {
      "cell_type": "code",
      "metadata": {
        "id": "KVZ92raO5WL-"
      },
      "source": [
        ""
      ],
      "execution_count": null,
      "outputs": []
    },
    {
      "cell_type": "code",
      "metadata": {
        "id": "RSTXtKsI5WIh"
      },
      "source": [
        ""
      ],
      "execution_count": null,
      "outputs": []
    },
    {
      "cell_type": "code",
      "metadata": {
        "id": "7VCekOGZ5WFi"
      },
      "source": [
        ""
      ],
      "execution_count": null,
      "outputs": []
    },
    {
      "cell_type": "markdown",
      "metadata": {
        "id": "RyK5r-j5Y--4"
      },
      "source": [
        "## TODO: Make TensorFlow tf.data Windowed Dataset"
      ]
    },
    {
      "cell_type": "code",
      "metadata": {
        "id": "ebeKFCfSBk-b"
      },
      "source": [
        ""
      ],
      "execution_count": null,
      "outputs": []
    },
    {
      "cell_type": "code",
      "metadata": {
        "id": "2F6tqMSB5VQw"
      },
      "source": [
        ""
      ],
      "execution_count": null,
      "outputs": []
    },
    {
      "cell_type": "code",
      "metadata": {
        "id": "XAeNIp1IYzz5"
      },
      "source": [
        ""
      ],
      "execution_count": null,
      "outputs": []
    },
    {
      "cell_type": "code",
      "metadata": {
        "id": "cQFBrdoFYzp-"
      },
      "source": [
        ""
      ],
      "execution_count": null,
      "outputs": []
    },
    {
      "cell_type": "code",
      "metadata": {
        "id": "jak40o1MYznM"
      },
      "source": [
        ""
      ],
      "execution_count": null,
      "outputs": []
    },
    {
      "cell_type": "code",
      "metadata": {
        "id": "bEPwZjIASOWg"
      },
      "source": [
        "# TODO: Use entire time series to predict next step, compare to actual data \n",
        "# (e.g. revisit the prices in 1 week & see how the model goes)\n",
        "# Start date: 18 May 2021\n",
        "# End date: 25 May 2021 (revisit the updated prices here & see how wrong the model is...)"
      ],
      "execution_count": null,
      "outputs": []
    },
    {
      "cell_type": "markdown",
      "metadata": {
        "id": "fVGY8WhHBlHV"
      },
      "source": [
        "## TODO: Uncertainty estimates"
      ]
    },
    {
      "cell_type": "markdown",
      "metadata": {
        "id": "SQsz_JNwBooW"
      },
      "source": [
        "### TODO: Model X: (model with Dropout to make MC Dropout model)..."
      ]
    },
    {
      "cell_type": "code",
      "metadata": {
        "id": "-Neg2BC6Bo_F"
      },
      "source": [
        ""
      ],
      "execution_count": null,
      "outputs": []
    },
    {
      "cell_type": "code",
      "metadata": {
        "id": "_n3iKK_mz9Uu"
      },
      "source": [
        ""
      ],
      "execution_count": null,
      "outputs": []
    },
    {
      "cell_type": "markdown",
      "metadata": {
        "id": "U5VMaZ1UBpXt"
      },
      "source": [
        "# TODO: Why forecasting is BS (turkey problem)\n",
        "\n",
        "TK - inject a turkey problem piece of data into the model & see how it effects (e.g. 1 data point that's 50x of outlier)\n",
        "\n",
        "* See this video: https://youtu.be/hRwimmE2wEk\n",
        "* Open system: beware (like fortune telling), see Mark Saroufim's tweet - https://twitter.com/marksaroufim/status/1366871736604532739?s=20\n",
        "* Closed system: try it out"
      ]
    },
    {
      "cell_type": "code",
      "metadata": {
        "id": "KD50Xt36BsOk"
      },
      "source": [
        ""
      ],
      "execution_count": null,
      "outputs": []
    },
    {
      "cell_type": "code",
      "metadata": {
        "id": "kUFWcnNGB7yn"
      },
      "source": [
        ""
      ],
      "execution_count": null,
      "outputs": []
    },
    {
      "cell_type": "code",
      "metadata": {
        "id": "DgG2hk9PB7wi"
      },
      "source": [
        ""
      ],
      "execution_count": null,
      "outputs": []
    },
    {
      "cell_type": "code",
      "metadata": {
        "id": "dPWjKlk_B7tb"
      },
      "source": [
        ""
      ],
      "execution_count": null,
      "outputs": []
    },
    {
      "cell_type": "code",
      "metadata": {
        "id": "JLSwuKgzB7q_"
      },
      "source": [
        ""
      ],
      "execution_count": null,
      "outputs": []
    },
    {
      "cell_type": "markdown",
      "metadata": {
        "id": "47VA8gR3B7QP"
      },
      "source": [
        "# TODO: Exercises"
      ]
    },
    {
      "cell_type": "code",
      "metadata": {
        "id": "vSZLIopuCAJN"
      },
      "source": [
        ""
      ],
      "execution_count": null,
      "outputs": []
    },
    {
      "cell_type": "markdown",
      "metadata": {
        "id": "iiOlVRREB7No"
      },
      "source": [
        "## TODO: Extra-curriculum"
      ]
    },
    {
      "cell_type": "markdown",
      "metadata": {
        "id": "L2PgJ141B7HG"
      },
      "source": [
        ""
      ]
    }
  ]
}